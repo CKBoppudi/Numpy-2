{
 "cells": [
  {
   "cell_type": "code",
   "execution_count": 1,
   "id": "1117bcfe",
   "metadata": {},
   "outputs": [],
   "source": [
    "import numpy as np "
   ]
  },
  {
   "cell_type": "markdown",
   "id": "49bc215e",
   "metadata": {},
   "source": [
    "# Operations on Numpy Arrays using one numpy array."
   ]
  },
  {
   "cell_type": "code",
   "execution_count": 5,
   "id": "cf856f30",
   "metadata": {},
   "outputs": [
    {
     "data": {
      "text/plain": [
       "array([[ 0,  1,  2,  3],\n",
       "       [ 4,  5,  6,  7],\n",
       "       [ 8,  9, 10, 11]])"
      ]
     },
     "execution_count": 5,
     "metadata": {},
     "output_type": "execute_result"
    }
   ],
   "source": [
    "c1 = np.arange(12).reshape(3,4)\n",
    "c1"
   ]
  },
  {
   "cell_type": "markdown",
   "id": "cff1eac1",
   "metadata": {},
   "source": [
    "# Add \"2\" to all the elements in the c1 2D matrix."
   ]
  },
  {
   "cell_type": "code",
   "execution_count": 4,
   "id": "9d902d54",
   "metadata": {},
   "outputs": [
    {
     "data": {
      "text/plain": [
       "array([[ 2,  3,  4,  5],\n",
       "       [ 6,  7,  8,  9],\n",
       "       [10, 11, 12, 13]])"
      ]
     },
     "execution_count": 4,
     "metadata": {},
     "output_type": "execute_result"
    }
   ],
   "source": [
    "c1 + 2"
   ]
  },
  {
   "cell_type": "code",
   "execution_count": 8,
   "id": "e827f2f6",
   "metadata": {},
   "outputs": [
    {
     "data": {
      "text/plain": [
       "array([[ 0,  2,  4,  6],\n",
       "       [ 8, 10, 12, 14],\n",
       "       [16, 18, 20, 22]])"
      ]
     },
     "execution_count": 8,
     "metadata": {},
     "output_type": "execute_result"
    }
   ],
   "source": [
    "c1 * 2"
   ]
  },
  {
   "cell_type": "markdown",
   "id": "2b6fa22f",
   "metadata": {},
   "source": [
    "# Note - Performing above operations is called broadcasting. This is just a introduction. There is much more to broad casting whichwill be covered in the coming up modules. "
   ]
  },
  {
   "cell_type": "markdown",
   "id": "63f00e9a",
   "metadata": {},
   "source": [
    "# Operations on Numpy array using two numpy arrays."
   ]
  },
  {
   "cell_type": "code",
   "execution_count": 12,
   "id": "13df04bd",
   "metadata": {},
   "outputs": [
    {
     "data": {
      "text/plain": [
       "array([ 6,  8, 10, 12])"
      ]
     },
     "execution_count": 12,
     "metadata": {},
     "output_type": "execute_result"
    }
   ],
   "source": [
    "A = np.array([1,2,3,4])\n",
    "B = np.array([5,6,7,8])\n",
    "A + B"
   ]
  },
  {
   "cell_type": "markdown",
   "id": "5bd62cbc",
   "metadata": {},
   "source": [
    "# Note - The above operation worked because, both the arrays are of same length. "
   ]
  },
  {
   "cell_type": "code",
   "execution_count": 14,
   "id": "dbad2b02",
   "metadata": {},
   "outputs": [
    {
     "ename": "ValueError",
     "evalue": "operands could not be broadcast together with shapes (4,) (3,) ",
     "output_type": "error",
     "traceback": [
      "\u001b[1;31m---------------------------------------------------------------------------\u001b[0m",
      "\u001b[1;31mValueError\u001b[0m                                Traceback (most recent call last)",
      "\u001b[1;32m~\\AppData\\Local\\Temp/ipykernel_3504/3648634465.py\u001b[0m in \u001b[0;36m<module>\u001b[1;34m\u001b[0m\n\u001b[0;32m      1\u001b[0m \u001b[0mA\u001b[0m \u001b[1;33m=\u001b[0m \u001b[0mnp\u001b[0m\u001b[1;33m.\u001b[0m\u001b[0marray\u001b[0m\u001b[1;33m(\u001b[0m\u001b[1;33m[\u001b[0m\u001b[1;36m1\u001b[0m\u001b[1;33m,\u001b[0m\u001b[1;36m2\u001b[0m\u001b[1;33m,\u001b[0m\u001b[1;36m3\u001b[0m\u001b[1;33m,\u001b[0m\u001b[1;36m4\u001b[0m\u001b[1;33m]\u001b[0m\u001b[1;33m)\u001b[0m\u001b[1;33m\u001b[0m\u001b[1;33m\u001b[0m\u001b[0m\n\u001b[0;32m      2\u001b[0m \u001b[0mB\u001b[0m \u001b[1;33m=\u001b[0m \u001b[0mnp\u001b[0m\u001b[1;33m.\u001b[0m\u001b[0marray\u001b[0m\u001b[1;33m(\u001b[0m\u001b[1;33m[\u001b[0m\u001b[1;36m5\u001b[0m\u001b[1;33m,\u001b[0m\u001b[1;36m6\u001b[0m\u001b[1;33m,\u001b[0m\u001b[1;36m7\u001b[0m\u001b[1;33m]\u001b[0m\u001b[1;33m)\u001b[0m\u001b[1;33m\u001b[0m\u001b[1;33m\u001b[0m\u001b[0m\n\u001b[1;32m----> 3\u001b[1;33m \u001b[0mA\u001b[0m \u001b[1;33m+\u001b[0m \u001b[0mB\u001b[0m\u001b[1;33m\u001b[0m\u001b[1;33m\u001b[0m\u001b[0m\n\u001b[0m",
      "\u001b[1;31mValueError\u001b[0m: operands could not be broadcast together with shapes (4,) (3,) "
     ]
    }
   ],
   "source": [
    "A = np.array([1,2,3,4])\n",
    "B = np.array([5,6,7])\n",
    "A + B"
   ]
  },
  {
   "cell_type": "markdown",
   "id": "bca00aba",
   "metadata": {},
   "source": [
    "# Note - The above operation did not work because the arrays are of not same length. "
   ]
  },
  {
   "cell_type": "code",
   "execution_count": 16,
   "id": "b7838d77",
   "metadata": {},
   "outputs": [
    {
     "data": {
      "text/plain": [
       "array([ 5, 12, 21, 32])"
      ]
     },
     "execution_count": 16,
     "metadata": {},
     "output_type": "execute_result"
    }
   ],
   "source": [
    "A = np.array([1,2,3,4])\n",
    "B = np.array([5,6,7,8])\n",
    "A * B"
   ]
  },
  {
   "cell_type": "markdown",
   "id": "83ba7bff",
   "metadata": {},
   "source": [
    "# What will be the output of following code snippet ?"
   ]
  },
  {
   "cell_type": "code",
   "execution_count": 20,
   "id": "a682855a",
   "metadata": {},
   "outputs": [
    {
     "data": {
      "text/plain": [
       "21"
      ]
     },
     "execution_count": 20,
     "metadata": {},
     "output_type": "execute_result"
    }
   ],
   "source": [
    "A = np.array([1,2,3,5,8])\n",
    "B = np.array([0,3,4,2,1])\n",
    "C = A + B\n",
    "C = C * A\n",
    "C[2]"
   ]
  },
  {
   "cell_type": "markdown",
   "id": "575884a5",
   "metadata": {},
   "source": [
    "# Note - In the above first C is the variable performing operation of A+B and then the new array C is multiplied with A which gives the result \"21\""
   ]
  },
  {
   "cell_type": "markdown",
   "id": "cae18297",
   "metadata": {},
   "source": [
    "# What will be the output of following code snippet."
   ]
  },
  {
   "cell_type": "code",
   "execution_count": 22,
   "id": "fdd9c648",
   "metadata": {},
   "outputs": [
    {
     "data": {
      "text/plain": [
       "array([False, False, False])"
      ]
     },
     "execution_count": 22,
     "metadata": {},
     "output_type": "execute_result"
    }
   ],
   "source": [
    "A = np.array([0,2,3])\n",
    "B = np.array([1,3,5])\n",
    "A>= B"
   ]
  },
  {
   "cell_type": "markdown",
   "id": "4858012a",
   "metadata": {},
   "source": [
    "# Note - In numpy as the operations are performed element wise, the condition  gave a false for all the elements in A, as there are no greater or equal values in A than B."
   ]
  },
  {
   "cell_type": "markdown",
   "id": "bc1fa80c",
   "metadata": {},
   "source": [
    "# Matrix Multiplication."
   ]
  },
  {
   "cell_type": "code",
   "execution_count": 26,
   "id": "d100bddf",
   "metadata": {},
   "outputs": [
    {
     "data": {
      "text/plain": [
       "array([[ 0,  1,  2,  3],\n",
       "       [ 4,  5,  6,  7],\n",
       "       [ 8,  9, 10, 11]])"
      ]
     },
     "execution_count": 26,
     "metadata": {},
     "output_type": "execute_result"
    }
   ],
   "source": [
    "A = np.arange(12).reshape(3,4)\n",
    "A"
   ]
  },
  {
   "cell_type": "code",
   "execution_count": 28,
   "id": "fc0e7b5f",
   "metadata": {},
   "outputs": [
    {
     "data": {
      "text/plain": [
       "array([[ 0,  1,  2,  3],\n",
       "       [ 4,  5,  6,  7],\n",
       "       [ 8,  9, 10, 11]])"
      ]
     },
     "execution_count": 28,
     "metadata": {},
     "output_type": "execute_result"
    }
   ],
   "source": [
    "B = np.arange(12).reshape(3,4)\n",
    "B"
   ]
  },
  {
   "cell_type": "code",
   "execution_count": 29,
   "id": "ee5bfff3",
   "metadata": {},
   "outputs": [
    {
     "data": {
      "text/plain": [
       "array([[  0,   1,   4,   9],\n",
       "       [ 16,  25,  36,  49],\n",
       "       [ 64,  81, 100, 121]])"
      ]
     },
     "execution_count": 29,
     "metadata": {},
     "output_type": "execute_result"
    }
   ],
   "source": [
    "A * B"
   ]
  },
  {
   "cell_type": "markdown",
   "id": "46eb7927",
   "metadata": {},
   "source": [
    "# Note - The above is performing a element wise multiplication in the above multiplication operation."
   ]
  },
  {
   "cell_type": "markdown",
   "id": "92a8ab15",
   "metadata": {},
   "source": [
    "# So to actually do the matrix multiplication following should be done. "
   ]
  },
  {
   "cell_type": "code",
   "execution_count": 30,
   "id": "f7a51372",
   "metadata": {},
   "outputs": [
    {
     "ename": "ValueError",
     "evalue": "matmul: Input operand 1 has a mismatch in its core dimension 0, with gufunc signature (n?,k),(k,m?)->(n?,m?) (size 3 is different from 4)",
     "output_type": "error",
     "traceback": [
      "\u001b[1;31m---------------------------------------------------------------------------\u001b[0m",
      "\u001b[1;31mValueError\u001b[0m                                Traceback (most recent call last)",
      "\u001b[1;32m~\\AppData\\Local\\Temp/ipykernel_3504/228986960.py\u001b[0m in \u001b[0;36m<module>\u001b[1;34m\u001b[0m\n\u001b[1;32m----> 1\u001b[1;33m \u001b[0mA\u001b[0m \u001b[1;33m@\u001b[0m \u001b[0mB\u001b[0m\u001b[1;33m\u001b[0m\u001b[1;33m\u001b[0m\u001b[0m\n\u001b[0m",
      "\u001b[1;31mValueError\u001b[0m: matmul: Input operand 1 has a mismatch in its core dimension 0, with gufunc signature (n?,k),(k,m?)->(n?,m?) (size 3 is different from 4)"
     ]
    }
   ],
   "source": [
    "A @ B"
   ]
  },
  {
   "cell_type": "markdown",
   "id": "c5ae8082",
   "metadata": {},
   "source": [
    "# Note - The above gives an error, because in matrix multiplication the number number of columns in the first matrix should be equal to the number rows in the second column."
   ]
  },
  {
   "cell_type": "code",
   "execution_count": 33,
   "id": "63670a62",
   "metadata": {},
   "outputs": [
    {
     "data": {
      "text/plain": [
       "array([[ 42,  48,  54],\n",
       "       [114, 136, 158],\n",
       "       [186, 224, 262]])"
      ]
     },
     "execution_count": 33,
     "metadata": {},
     "output_type": "execute_result"
    }
   ],
   "source": [
    "A @ B.reshape(4,3)"
   ]
  },
  {
   "cell_type": "markdown",
   "id": "0d138147",
   "metadata": {},
   "source": [
    "# Note - The above worked as the condition for dimension of both the matrices is satisfied by reshaping the size of matrix B and the output matrix have the dimension of (3x3)"
   ]
  },
  {
   "cell_type": "code",
   "execution_count": 36,
   "id": "4f5cf588",
   "metadata": {},
   "outputs": [
    {
     "data": {
      "text/plain": [
       "array([[ 20,  23,  26,  29],\n",
       "       [ 56,  68,  80,  92],\n",
       "       [ 92, 113, 134, 155],\n",
       "       [128, 158, 188, 218]])"
      ]
     },
     "execution_count": 36,
     "metadata": {},
     "output_type": "execute_result"
    }
   ],
   "source": [
    "A.reshape(4,3) @ B"
   ]
  },
  {
   "cell_type": "markdown",
   "id": "4d7f7571",
   "metadata": {},
   "source": [
    "# Matrix multiplication - second method - using \"matmul()\" function"
   ]
  },
  {
   "cell_type": "code",
   "execution_count": 39,
   "id": "6943b76b",
   "metadata": {},
   "outputs": [
    {
     "data": {
      "text/plain": [
       "array([[ 20,  23,  26,  29],\n",
       "       [ 56,  68,  80,  92],\n",
       "       [ 92, 113, 134, 155],\n",
       "       [128, 158, 188, 218]])"
      ]
     },
     "execution_count": 39,
     "metadata": {},
     "output_type": "execute_result"
    }
   ],
   "source": [
    "np.matmul(A.reshape(4,3) , B)"
   ]
  },
  {
   "cell_type": "markdown",
   "id": "ce7d5362",
   "metadata": {},
   "source": [
    "# Matrix multiplication - Third method - using \"dot()\" function."
   ]
  },
  {
   "cell_type": "code",
   "execution_count": 40,
   "id": "a03a23f9",
   "metadata": {},
   "outputs": [
    {
     "data": {
      "text/plain": [
       "array([[ 20,  23,  26,  29],\n",
       "       [ 56,  68,  80,  92],\n",
       "       [ 92, 113, 134, 155],\n",
       "       [128, 158, 188, 218]])"
      ]
     },
     "execution_count": 40,
     "metadata": {},
     "output_type": "execute_result"
    }
   ],
   "source": [
    "np.dot(A.reshape(4,3) , B)"
   ]
  },
  {
   "cell_type": "markdown",
   "id": "de2e162a",
   "metadata": {},
   "source": [
    "# Other functions of dot() function."
   ]
  },
  {
   "cell_type": "code",
   "execution_count": 42,
   "id": "6c7b05cf",
   "metadata": {},
   "outputs": [
    {
     "data": {
      "text/plain": [
       "26"
      ]
     },
     "execution_count": 42,
     "metadata": {},
     "output_type": "execute_result"
    }
   ],
   "source": [
    "A = np.array([1,2,3,4])\n",
    "B = np.array([1,4,3,2])\n",
    "np.dot(A,B)"
   ]
  },
  {
   "cell_type": "markdown",
   "id": "e8eff976",
   "metadata": {},
   "source": [
    "# Note - In the above dot() fuunction is actually doing the element wise multiplication and then adding up all those elements."
   ]
  },
  {
   "cell_type": "markdown",
   "id": "4661088e",
   "metadata": {},
   "source": [
    "# Universal functions(ufuncs) Mathematical operations providing elemnt wise operations on \"nd Numpy arrays\""
   ]
  },
  {
   "cell_type": "code",
   "execution_count": 48,
   "id": "46f0c580",
   "metadata": {},
   "outputs": [
    {
     "data": {
      "text/plain": [
       "array([ 2,  5,  7,  9, 11])"
      ]
     },
     "execution_count": 48,
     "metadata": {},
     "output_type": "execute_result"
    }
   ],
   "source": [
    "A = np.array([1,2,3,4,5])\n",
    "B = np.array([1,3,4,5,6])\n",
    "A + B"
   ]
  },
  {
   "cell_type": "code",
   "execution_count": 50,
   "id": "7d67292c",
   "metadata": {},
   "outputs": [
    {
     "data": {
      "text/plain": [
       "array([ 2,  5,  7,  9, 11])"
      ]
     },
     "execution_count": 50,
     "metadata": {},
     "output_type": "execute_result"
    }
   ],
   "source": [
    "np.add(A,B) #### Universal function ####"
   ]
  },
  {
   "cell_type": "markdown",
   "id": "0a416315",
   "metadata": {},
   "source": [
    "# Note - There are many universal functions to perfrom the mathematical operation. exapmle - sin,cos,tan,exp,log etc.,"
   ]
  },
  {
   "cell_type": "markdown",
   "id": "0e4e907a",
   "metadata": {},
   "source": [
    "# Aggregate functions/Reduction functions"
   ]
  },
  {
   "cell_type": "markdown",
   "id": "67c9c82a",
   "metadata": {},
   "source": [
    "# Example - sum() , mean() , min() , max() functions are examples of aggregate or reduction functions as they bring down the output to a single unit. "
   ]
  },
  {
   "cell_type": "markdown",
   "id": "d10dbf62",
   "metadata": {},
   "source": [
    "# How to calculate sum of all the elements in a 2D matrix"
   ]
  },
  {
   "cell_type": "code",
   "execution_count": 53,
   "id": "e1ab40b1",
   "metadata": {},
   "outputs": [
    {
     "data": {
      "text/plain": [
       "array([[ 0,  1,  2,  3],\n",
       "       [ 4,  5,  6,  7],\n",
       "       [ 8,  9, 10, 11]])"
      ]
     },
     "execution_count": 53,
     "metadata": {},
     "output_type": "execute_result"
    }
   ],
   "source": [
    "A = np.arange(12).reshape(3,4)\n",
    "A"
   ]
  },
  {
   "cell_type": "code",
   "execution_count": 54,
   "id": "333419c4",
   "metadata": {},
   "outputs": [
    {
     "data": {
      "text/plain": [
       "66"
      ]
     },
     "execution_count": 54,
     "metadata": {},
     "output_type": "execute_result"
    }
   ],
   "source": [
    "np.sum(A)"
   ]
  },
  {
   "cell_type": "code",
   "execution_count": 55,
   "id": "be4c1821",
   "metadata": {},
   "outputs": [
    {
     "data": {
      "text/plain": [
       "5.5"
      ]
     },
     "execution_count": 55,
     "metadata": {},
     "output_type": "execute_result"
    }
   ],
   "source": [
    "np.mean(A)"
   ]
  },
  {
   "cell_type": "code",
   "execution_count": 56,
   "id": "82c5b6c1",
   "metadata": {},
   "outputs": [
    {
     "data": {
      "text/plain": [
       "0"
      ]
     },
     "execution_count": 56,
     "metadata": {},
     "output_type": "execute_result"
    }
   ],
   "source": [
    "np.min(A)"
   ]
  },
  {
   "cell_type": "code",
   "execution_count": 57,
   "id": "c86e5ddc",
   "metadata": {},
   "outputs": [
    {
     "data": {
      "text/plain": [
       "11"
      ]
     },
     "execution_count": 57,
     "metadata": {},
     "output_type": "execute_result"
    }
   ],
   "source": [
    "np.max(A)"
   ]
  },
  {
   "cell_type": "markdown",
   "id": "8bd28590",
   "metadata": {},
   "source": [
    "# Calculating the sum row wise or column wise "
   ]
  },
  {
   "cell_type": "code",
   "execution_count": 59,
   "id": "cb9f20ec",
   "metadata": {},
   "outputs": [
    {
     "data": {
      "text/plain": [
       "array([[ 0,  1,  2,  3],\n",
       "       [ 4,  5,  6,  7],\n",
       "       [ 8,  9, 10, 11]])"
      ]
     },
     "execution_count": 59,
     "metadata": {},
     "output_type": "execute_result"
    }
   ],
   "source": [
    "A"
   ]
  },
  {
   "cell_type": "code",
   "execution_count": 61,
   "id": "ef909cd0",
   "metadata": {},
   "outputs": [
    {
     "data": {
      "text/plain": [
       "6"
      ]
     },
     "execution_count": 61,
     "metadata": {},
     "output_type": "execute_result"
    }
   ],
   "source": [
    "np.sum(A[0]) # Sum of the elements in the first row."
   ]
  },
  {
   "cell_type": "code",
   "execution_count": 63,
   "id": "9facd6ea",
   "metadata": {},
   "outputs": [
    {
     "data": {
      "text/plain": [
       "38"
      ]
     },
     "execution_count": 63,
     "metadata": {},
     "output_type": "execute_result"
    }
   ],
   "source": [
    "np.sum([A[2]]) # Sum of the elements in the third row."
   ]
  },
  {
   "cell_type": "code",
   "execution_count": 65,
   "id": "850da49a",
   "metadata": {},
   "outputs": [
    {
     "data": {
      "text/plain": [
       "18"
      ]
     },
     "execution_count": 65,
     "metadata": {},
     "output_type": "execute_result"
    }
   ],
   "source": [
    "np.sum(A[: , 2]) # Sum of elements in the 3rd column."
   ]
  },
  {
   "cell_type": "code",
   "execution_count": 67,
   "id": "74534695",
   "metadata": {},
   "outputs": [
    {
     "data": {
      "text/plain": [
       "33"
      ]
     },
     "execution_count": 67,
     "metadata": {},
     "output_type": "execute_result"
    }
   ],
   "source": [
    "np.sum(A[: , 1:3]) #Sum of all the elements in the 2nd and 3rd columns "
   ]
  },
  {
   "cell_type": "code",
   "execution_count": 70,
   "id": "917f53f3",
   "metadata": {},
   "outputs": [
    {
     "data": {
      "text/plain": [
       "14"
      ]
     },
     "execution_count": 70,
     "metadata": {},
     "output_type": "execute_result"
    }
   ],
   "source": [
    "np.sum(A[:2 , 1:3]) # Sum of all elements in the 2nd and 3rd columns for first 2 rows."
   ]
  },
  {
   "cell_type": "code",
   "execution_count": 73,
   "id": "c820e406",
   "metadata": {},
   "outputs": [
    {
     "data": {
      "text/plain": [
       "array([[ 0,  1,  2,  3],\n",
       "       [ 4,  5,  6,  7],\n",
       "       [ 8,  9, 10, 11]])"
      ]
     },
     "execution_count": 73,
     "metadata": {},
     "output_type": "execute_result"
    }
   ],
   "source": [
    "A"
   ]
  },
  {
   "cell_type": "markdown",
   "id": "b3eae95d",
   "metadata": {},
   "source": [
    "# Sum along the row elements."
   ]
  },
  {
   "cell_type": "code",
   "execution_count": 71,
   "id": "a4c41d29",
   "metadata": {},
   "outputs": [
    {
     "data": {
      "text/plain": [
       "array([12, 15, 18, 21])"
      ]
     },
     "execution_count": 71,
     "metadata": {},
     "output_type": "execute_result"
    }
   ],
   "source": [
    "np.sum(A,axis = 0)"
   ]
  },
  {
   "cell_type": "markdown",
   "id": "bd1b2404",
   "metadata": {},
   "source": [
    "# Sum along the column elements. "
   ]
  },
  {
   "cell_type": "code",
   "execution_count": 72,
   "id": "6cc0cac8",
   "metadata": {},
   "outputs": [
    {
     "data": {
      "text/plain": [
       "array([ 6, 22, 38])"
      ]
     },
     "execution_count": 72,
     "metadata": {},
     "output_type": "execute_result"
    }
   ],
   "source": [
    "np.sum(A,axis = 1)"
   ]
  },
  {
   "cell_type": "markdown",
   "id": "24609e46",
   "metadata": {},
   "source": [
    "# Mean "
   ]
  },
  {
   "cell_type": "code",
   "execution_count": 74,
   "id": "ce6cca70",
   "metadata": {},
   "outputs": [
    {
     "data": {
      "text/plain": [
       "array([[ 0,  1,  2,  3],\n",
       "       [ 4,  5,  6,  7],\n",
       "       [ 8,  9, 10, 11]])"
      ]
     },
     "execution_count": 74,
     "metadata": {},
     "output_type": "execute_result"
    }
   ],
   "source": [
    "A "
   ]
  },
  {
   "cell_type": "code",
   "execution_count": 75,
   "id": "d8f68b2f",
   "metadata": {},
   "outputs": [
    {
     "data": {
      "text/plain": [
       "5.5"
      ]
     },
     "execution_count": 75,
     "metadata": {},
     "output_type": "execute_result"
    }
   ],
   "source": [
    "np.mean(A)"
   ]
  },
  {
   "cell_type": "markdown",
   "id": "64305c61",
   "metadata": {},
   "source": [
    "# Mean along the row elements"
   ]
  },
  {
   "cell_type": "code",
   "execution_count": 76,
   "id": "fc789376",
   "metadata": {},
   "outputs": [
    {
     "data": {
      "text/plain": [
       "array([4., 5., 6., 7.])"
      ]
     },
     "execution_count": 76,
     "metadata": {},
     "output_type": "execute_result"
    }
   ],
   "source": [
    "np.mean(A , axis = 0)"
   ]
  },
  {
   "cell_type": "markdown",
   "id": "acc932df",
   "metadata": {},
   "source": [
    "# Mean along the column elements  "
   ]
  },
  {
   "cell_type": "code",
   "execution_count": 77,
   "id": "f7dc96ae",
   "metadata": {},
   "outputs": [
    {
     "data": {
      "text/plain": [
       "array([1.5, 5.5, 9.5])"
      ]
     },
     "execution_count": 77,
     "metadata": {},
     "output_type": "execute_result"
    }
   ],
   "source": [
    "np.mean(A , axis = 1)"
   ]
  },
  {
   "cell_type": "markdown",
   "id": "7ff987e8",
   "metadata": {},
   "source": [
    "# Calculate the minimum value along the row elements."
   ]
  },
  {
   "cell_type": "code",
   "execution_count": 78,
   "id": "af6aa02d",
   "metadata": {},
   "outputs": [
    {
     "data": {
      "text/plain": [
       "array([[ 0,  1,  2,  3],\n",
       "       [ 4,  5,  6,  7],\n",
       "       [ 8,  9, 10, 11]])"
      ]
     },
     "execution_count": 78,
     "metadata": {},
     "output_type": "execute_result"
    }
   ],
   "source": [
    "A"
   ]
  },
  {
   "cell_type": "code",
   "execution_count": 79,
   "id": "9ecf938f",
   "metadata": {},
   "outputs": [
    {
     "data": {
      "text/plain": [
       "array([0, 1, 2, 3])"
      ]
     },
     "execution_count": 79,
     "metadata": {},
     "output_type": "execute_result"
    }
   ],
   "source": [
    "np.min(A,axis = 0)"
   ]
  },
  {
   "cell_type": "markdown",
   "id": "fcef6766",
   "metadata": {},
   "source": [
    "# Calculate the minimum value among the column elements."
   ]
  },
  {
   "cell_type": "code",
   "execution_count": 81,
   "id": "3b3245be",
   "metadata": {},
   "outputs": [
    {
     "data": {
      "text/plain": [
       "array([[ 0,  1,  2,  3],\n",
       "       [ 4,  5,  6,  7],\n",
       "       [ 8,  9, 10, 11]])"
      ]
     },
     "execution_count": 81,
     "metadata": {},
     "output_type": "execute_result"
    }
   ],
   "source": [
    "A "
   ]
  },
  {
   "cell_type": "code",
   "execution_count": 84,
   "id": "ae00d1d2",
   "metadata": {},
   "outputs": [
    {
     "data": {
      "text/plain": [
       "array([0, 4, 8])"
      ]
     },
     "execution_count": 84,
     "metadata": {},
     "output_type": "execute_result"
    }
   ],
   "source": [
    "np.min(A , axis = 1)"
   ]
  },
  {
   "cell_type": "markdown",
   "id": "7943f421",
   "metadata": {},
   "source": [
    "# Caluculate the maximum value among the row elements."
   ]
  },
  {
   "cell_type": "code",
   "execution_count": 86,
   "id": "a66d0a0f",
   "metadata": {},
   "outputs": [
    {
     "data": {
      "text/plain": [
       "array([[ 0,  1,  2,  3],\n",
       "       [ 4,  5,  6,  7],\n",
       "       [ 8,  9, 10, 11]])"
      ]
     },
     "execution_count": 86,
     "metadata": {},
     "output_type": "execute_result"
    }
   ],
   "source": [
    "A"
   ]
  },
  {
   "cell_type": "code",
   "execution_count": 87,
   "id": "54bebbc1",
   "metadata": {},
   "outputs": [
    {
     "data": {
      "text/plain": [
       "array([ 8,  9, 10, 11])"
      ]
     },
     "execution_count": 87,
     "metadata": {},
     "output_type": "execute_result"
    }
   ],
   "source": [
    "np.max(A, axis = 0)"
   ]
  },
  {
   "cell_type": "markdown",
   "id": "0e0f04f9",
   "metadata": {},
   "source": [
    "# Calculate the maximum value among the column elements."
   ]
  },
  {
   "cell_type": "code",
   "execution_count": 88,
   "id": "15614ca1",
   "metadata": {},
   "outputs": [
    {
     "data": {
      "text/plain": [
       "array([[ 0,  1,  2,  3],\n",
       "       [ 4,  5,  6,  7],\n",
       "       [ 8,  9, 10, 11]])"
      ]
     },
     "execution_count": 88,
     "metadata": {},
     "output_type": "execute_result"
    }
   ],
   "source": [
    "A"
   ]
  },
  {
   "cell_type": "code",
   "execution_count": 89,
   "id": "7a043606",
   "metadata": {},
   "outputs": [
    {
     "data": {
      "text/plain": [
       "array([ 3,  7, 11])"
      ]
     },
     "execution_count": 89,
     "metadata": {},
     "output_type": "execute_result"
    }
   ],
   "source": [
    "np.max(A , axis = 1)"
   ]
  },
  {
   "cell_type": "code",
   "execution_count": 95,
   "id": "d0db05f7",
   "metadata": {},
   "outputs": [
    {
     "data": {
      "text/plain": [
       "array([[ 0,  1,  2,  3],\n",
       "       [ 4,  5,  6,  7],\n",
       "       [ 8,  9, 10, 11]])"
      ]
     },
     "execution_count": 95,
     "metadata": {},
     "output_type": "execute_result"
    }
   ],
   "source": [
    "A"
   ]
  },
  {
   "cell_type": "markdown",
   "id": "6e3730c5",
   "metadata": {},
   "source": [
    "# Logical Functions "
   ]
  },
  {
   "cell_type": "code",
   "execution_count": 98,
   "id": "d00b16c5",
   "metadata": {},
   "outputs": [],
   "source": [
    "A = np.array([1,2,3,4])\n",
    "B = np.array([4,3,2,1])"
   ]
  },
  {
   "cell_type": "markdown",
   "id": "90692a32",
   "metadata": {},
   "source": [
    "# How to check if elements in A are less than elements in B."
   ]
  },
  {
   "cell_type": "code",
   "execution_count": 99,
   "id": "8f2f33cd",
   "metadata": {},
   "outputs": [
    {
     "data": {
      "text/plain": [
       "array([ True,  True, False, False])"
      ]
     },
     "execution_count": 99,
     "metadata": {},
     "output_type": "execute_result"
    }
   ],
   "source": [
    "A <= B"
   ]
  },
  {
   "cell_type": "markdown",
   "id": "41e66b2a",
   "metadata": {},
   "source": [
    "# Tell how many such instances are there where A <= B."
   ]
  },
  {
   "cell_type": "code",
   "execution_count": 103,
   "id": "7de3ba4b",
   "metadata": {},
   "outputs": [
    {
     "data": {
      "text/plain": [
       "2"
      ]
     },
     "execution_count": 103,
     "metadata": {},
     "output_type": "execute_result"
    }
   ],
   "source": [
    "np.sum(A<= B) # The output will be true as there are 2 such instances "
   ]
  },
  {
   "cell_type": "markdown",
   "id": "843593e9",
   "metadata": {},
   "source": [
    "# If there is even one instance where the condition A<= B is true, give the output as True. "
   ]
  },
  {
   "cell_type": "code",
   "execution_count": 105,
   "id": "cf722dd7",
   "metadata": {},
   "outputs": [
    {
     "data": {
      "text/plain": [
       "True"
      ]
     },
     "execution_count": 105,
     "metadata": {},
     "output_type": "execute_result"
    }
   ],
   "source": [
    "np.sum(A <= B) >= 1"
   ]
  },
  {
   "cell_type": "markdown",
   "id": "5e9eeda3",
   "metadata": {},
   "source": [
    "# All the above can be checked using one function which is the \"any\" function, as follows."
   ]
  },
  {
   "cell_type": "code",
   "execution_count": 109,
   "id": "af872ba8",
   "metadata": {},
   "outputs": [
    {
     "data": {
      "text/plain": [
       "True"
      ]
     },
     "execution_count": 109,
     "metadata": {},
     "output_type": "execute_result"
    }
   ],
   "source": [
    "np.any(A<=B)"
   ]
  },
  {
   "cell_type": "markdown",
   "id": "8bb49452",
   "metadata": {},
   "source": [
    "# Note - any function checks for the given condition, and even if there is a single instance where the condition is satisfied, it returns True."
   ]
  },
  {
   "cell_type": "code",
   "execution_count": 111,
   "id": "4058b414",
   "metadata": {},
   "outputs": [],
   "source": [
    "A = np.array([1,2,3,4])\n",
    "B = np.array([4,3,2,1])"
   ]
  },
  {
   "cell_type": "markdown",
   "id": "cc5b9e3f",
   "metadata": {},
   "source": [
    "# Now check if the given condition is always true or not."
   ]
  },
  {
   "cell_type": "code",
   "execution_count": 113,
   "id": "18fdf082",
   "metadata": {},
   "outputs": [
    {
     "data": {
      "text/plain": [
       "False"
      ]
     },
     "execution_count": 113,
     "metadata": {},
     "output_type": "execute_result"
    }
   ],
   "source": [
    "np.all(A <= B)"
   ]
  },
  {
   "cell_type": "code",
   "execution_count": 115,
   "id": "311a416c",
   "metadata": {},
   "outputs": [],
   "source": [
    "# Without a Numpy function see if whether the above condition will always be true or not."
   ]
  },
  {
   "cell_type": "code",
   "execution_count": 117,
   "id": "7cd0efef",
   "metadata": {},
   "outputs": [
    {
     "data": {
      "text/plain": [
       "2"
      ]
     },
     "execution_count": 117,
     "metadata": {},
     "output_type": "execute_result"
    }
   ],
   "source": [
    "np.sum(A <= B)"
   ]
  },
  {
   "cell_type": "code",
   "execution_count": 118,
   "id": "7fa65b3e",
   "metadata": {},
   "outputs": [
    {
     "data": {
      "text/plain": [
       "False"
      ]
     },
     "execution_count": 118,
     "metadata": {},
     "output_type": "execute_result"
    }
   ],
   "source": [
    "np.sum(A <= B) == 4"
   ]
  },
  {
   "cell_type": "code",
   "execution_count": 121,
   "id": "737b05fd",
   "metadata": {},
   "outputs": [
    {
     "data": {
      "text/plain": [
       "False"
      ]
     },
     "execution_count": 121,
     "metadata": {},
     "output_type": "execute_result"
    }
   ],
   "source": [
    "# or can do in the following way.\n",
    "np.sum(A <= B) == len(A)"
   ]
  },
  {
   "cell_type": "markdown",
   "id": "76d01790",
   "metadata": {},
   "source": [
    "# Giving Multiple Conditions."
   ]
  },
  {
   "cell_type": "code",
   "execution_count": 122,
   "id": "dc1437b7",
   "metadata": {},
   "outputs": [],
   "source": [
    "A = np.array([1,2,3,4])\n",
    "B = np.array([4,3,2,1])\n",
    "C = np.array([6,4,4,5])"
   ]
  },
  {
   "cell_type": "markdown",
   "id": "9bd42977",
   "metadata": {},
   "source": [
    "# Check if the conditions, A <= B and B <= C are always True"
   ]
  },
  {
   "cell_type": "code",
   "execution_count": 130,
   "id": "b5f26e2c",
   "metadata": {},
   "outputs": [
    {
     "data": {
      "text/plain": [
       "True"
      ]
     },
     "execution_count": 130,
     "metadata": {},
     "output_type": "execute_result"
    }
   ],
   "source": [
    "np.all([A <= B] and [B <= C])"
   ]
  },
  {
   "cell_type": "code",
   "execution_count": 131,
   "id": "0a721106",
   "metadata": {},
   "outputs": [],
   "source": [
    "A = np.array([7,2,9,10])\n",
    "B = np.array([4,3,2,1])\n",
    "C = np.array([6,4,4,5])"
   ]
  },
  {
   "cell_type": "markdown",
   "id": "0f6383d7",
   "metadata": {},
   "source": [
    "# Check if the condition, A <= B and B <= C is atleast true once."
   ]
  },
  {
   "cell_type": "code",
   "execution_count": 133,
   "id": "9f927864",
   "metadata": {},
   "outputs": [
    {
     "data": {
      "text/plain": [
       "True"
      ]
     },
     "execution_count": 133,
     "metadata": {},
     "output_type": "execute_result"
    }
   ],
   "source": [
    "np.any([A <= B] and [B <= C])"
   ]
  },
  {
   "cell_type": "code",
   "execution_count": 135,
   "id": "cd9fefd6",
   "metadata": {},
   "outputs": [],
   "source": [
    "A = np.array([7,8,9,10])\n",
    "B = np.array([6,7,4,3])\n",
    "C = np.array([4,1,2,2])"
   ]
  },
  {
   "cell_type": "markdown",
   "id": "42112693",
   "metadata": {},
   "source": [
    "# Check if the condition, A <= B and B <= C is atleast true once."
   ]
  },
  {
   "cell_type": "code",
   "execution_count": 136,
   "id": "266337d5",
   "metadata": {},
   "outputs": [
    {
     "data": {
      "text/plain": [
       "False"
      ]
     },
     "execution_count": 136,
     "metadata": {},
     "output_type": "execute_result"
    }
   ],
   "source": [
    "np.any([A <= B] and [B<=C])"
   ]
  },
  {
   "cell_type": "markdown",
   "id": "1f8b48cd",
   "metadata": {},
   "source": [
    "# Sorting Function "
   ]
  },
  {
   "cell_type": "code",
   "execution_count": 141,
   "id": "947e1f03",
   "metadata": {},
   "outputs": [],
   "source": [
    "A = np.array([2,78,98,54,23,12,1,3,90,25])"
   ]
  },
  {
   "cell_type": "code",
   "execution_count": 142,
   "id": "d7252632",
   "metadata": {},
   "outputs": [
    {
     "data": {
      "text/plain": [
       "array([ 1,  2,  3, 12, 23, 25, 54, 78, 90, 98])"
      ]
     },
     "execution_count": 142,
     "metadata": {},
     "output_type": "execute_result"
    }
   ],
   "source": [
    "np.sort(A)"
   ]
  },
  {
   "cell_type": "markdown",
   "id": "74318c0c",
   "metadata": {},
   "source": [
    "# Arg sort function (Important)"
   ]
  },
  {
   "cell_type": "code",
   "execution_count": 143,
   "id": "5ff16c8c",
   "metadata": {},
   "outputs": [
    {
     "data": {
      "text/plain": [
       "array([6, 0, 7, 5, 4, 9, 3, 1, 8, 2], dtype=int64)"
      ]
     },
     "execution_count": 143,
     "metadata": {},
     "output_type": "execute_result"
    }
   ],
   "source": [
    "np.argsort(A)"
   ]
  },
  {
   "cell_type": "markdown",
   "id": "0e75b5c2",
   "metadata": {},
   "source": [
    "# Note - argsort gives the indices of the sorted array elements with respect to the original array "
   ]
  },
  {
   "cell_type": "markdown",
   "id": "b94e0c4d",
   "metadata": {},
   "source": [
    "# Explanation.\n",
    "# 6 is the index of value 1 from the sorted array with respect to the original array.\n",
    "# 0 is the index of value 2 from the sorted array with respect to the original array.\n",
    "# 7 is the index of value 3 from the sorted array with respect to the origunal array.\n",
    "# Finally the \"argsort\" gives all the indices of the sorted array."
   ]
  },
  {
   "cell_type": "markdown",
   "id": "87c3bfb7",
   "metadata": {},
   "source": [
    "\n",
    "\n",
    "#  Sorting with respect to axis"
   ]
  },
  {
   "cell_type": "code",
   "execution_count": 150,
   "id": "3a0616c4",
   "metadata": {},
   "outputs": [],
   "source": [
    "A = np.array([[23,4,13],\n",
    "             [13,45,78],\n",
    "             [65,76,98]])"
   ]
  },
  {
   "cell_type": "code",
   "execution_count": 151,
   "id": "86854f57",
   "metadata": {},
   "outputs": [
    {
     "data": {
      "text/plain": [
       "array([[23,  4, 13],\n",
       "       [13, 45, 78],\n",
       "       [65, 76, 98]])"
      ]
     },
     "execution_count": 151,
     "metadata": {},
     "output_type": "execute_result"
    }
   ],
   "source": [
    "A"
   ]
  },
  {
   "cell_type": "code",
   "execution_count": 152,
   "id": "bf7df096",
   "metadata": {},
   "outputs": [
    {
     "data": {
      "text/plain": [
       "array([[ 4, 13, 23],\n",
       "       [13, 45, 78],\n",
       "       [65, 76, 98]])"
      ]
     },
     "execution_count": 152,
     "metadata": {},
     "output_type": "execute_result"
    }
   ],
   "source": [
    "np.sort(A,axis = 1)"
   ]
  },
  {
   "cell_type": "code",
   "execution_count": 153,
   "id": "4c4549f8",
   "metadata": {},
   "outputs": [
    {
     "data": {
      "text/plain": [
       "array([[13,  4, 13],\n",
       "       [23, 45, 78],\n",
       "       [65, 76, 98]])"
      ]
     },
     "execution_count": 153,
     "metadata": {},
     "output_type": "execute_result"
    }
   ],
   "source": [
    "np.sort(A, axis = 0)"
   ]
  },
  {
   "cell_type": "code",
   "execution_count": 155,
   "id": "13c2f958",
   "metadata": {},
   "outputs": [
    {
     "data": {
      "text/plain": [
       "array([[23,  4, 13],\n",
       "       [13, 45, 78],\n",
       "       [65, 76, 98]])"
      ]
     },
     "execution_count": 155,
     "metadata": {},
     "output_type": "execute_result"
    }
   ],
   "source": [
    "A"
   ]
  },
  {
   "cell_type": "code",
   "execution_count": 154,
   "id": "35f21844",
   "metadata": {},
   "outputs": [
    {
     "data": {
      "text/plain": [
       "array([[ 4, 13, 23],\n",
       "       [13, 45, 78],\n",
       "       [65, 76, 98]])"
      ]
     },
     "execution_count": 154,
     "metadata": {},
     "output_type": "execute_result"
    }
   ],
   "source": [
    "np.sort(A)"
   ]
  },
  {
   "cell_type": "markdown",
   "id": "6e6bdc76",
   "metadata": {},
   "source": [
    "# Note - If no axis is provided, the operations are performed across the last dimension (axis = 1)"
   ]
  },
  {
   "cell_type": "markdown",
   "id": "ce70a0c3",
   "metadata": {},
   "source": [
    "# Important interview question."
   ]
  },
  {
   "cell_type": "markdown",
   "id": "03990681",
   "metadata": {},
   "source": [
    "# Espacially in case of sorting, when \"no axis is provided\", the sorting will be performed along the \"last direction\". which will be \"axis = 1\"."
   ]
  },
  {
   "cell_type": "markdown",
   "id": "3535aa33",
   "metadata": {},
   "source": [
    "# Fitbit Data set\n",
    "# Data Processing"
   ]
  },
  {
   "cell_type": "code",
   "execution_count": 160,
   "id": "6618fdbf",
   "metadata": {},
   "outputs": [
    {
     "name": "stdout",
     "output_type": "stream",
     "text": [
      "Collecting gdownNote: you may need to restart the kernel to use updated packages.\n",
      "\n",
      "  Downloading gdown-4.5.1.tar.gz (14 kB)\n",
      "  Installing build dependencies: started\n",
      "  Installing build dependencies: finished with status 'done'\n",
      "  Getting requirements to build wheel: started\n",
      "  Getting requirements to build wheel: finished with status 'done'\n",
      "    Preparing wheel metadata: started\n",
      "    Preparing wheel metadata: finished with status 'done'\n",
      "Requirement already satisfied: six in c:\\users\\dell\\anaconda3\\lib\\site-packages (from gdown) (1.16.0)\n",
      "Requirement already satisfied: requests[socks] in c:\\users\\dell\\anaconda3\\lib\\site-packages (from gdown) (2.26.0)\n",
      "Requirement already satisfied: filelock in c:\\users\\dell\\anaconda3\\lib\\site-packages (from gdown) (3.3.1)\n",
      "Requirement already satisfied: tqdm in c:\\users\\dell\\anaconda3\\lib\\site-packages (from gdown) (4.62.3)\n",
      "Requirement already satisfied: beautifulsoup4 in c:\\users\\dell\\anaconda3\\lib\\site-packages (from gdown) (4.10.0)\n",
      "Requirement already satisfied: soupsieve>1.2 in c:\\users\\dell\\anaconda3\\lib\\site-packages (from beautifulsoup4->gdown) (2.2.1)\n",
      "Requirement already satisfied: charset-normalizer~=2.0.0 in c:\\users\\dell\\anaconda3\\lib\\site-packages (from requests[socks]->gdown) (2.0.4)\n",
      "Requirement already satisfied: certifi>=2017.4.17 in c:\\users\\dell\\anaconda3\\lib\\site-packages (from requests[socks]->gdown) (2021.10.8)\n",
      "Requirement already satisfied: urllib3<1.27,>=1.21.1 in c:\\users\\dell\\anaconda3\\lib\\site-packages (from requests[socks]->gdown) (1.26.7)\n",
      "Requirement already satisfied: idna<4,>=2.5 in c:\\users\\dell\\anaconda3\\lib\\site-packages (from requests[socks]->gdown) (3.2)\n",
      "Requirement already satisfied: PySocks!=1.5.7,>=1.5.6 in c:\\users\\dell\\anaconda3\\lib\\site-packages (from requests[socks]->gdown) (1.7.1)\n",
      "Requirement already satisfied: colorama in c:\\users\\dell\\anaconda3\\lib\\site-packages (from tqdm->gdown) (0.4.4)\n",
      "Building wheels for collected packages: gdown\n",
      "  Building wheel for gdown (PEP 517): started\n",
      "  Building wheel for gdown (PEP 517): finished with status 'done'\n",
      "  Created wheel for gdown: filename=gdown-4.5.1-py3-none-any.whl size=14933 sha256=bf86e6255daecf57c90a2ca5498216ef7253c63a9ecfdd0a0e32322bb608216f\n",
      "  Stored in directory: c:\\users\\dell\\appdata\\local\\pip\\cache\\wheels\\b8\\79\\f0\\b523d25d96b0bbb12bb024b97940d08c4fcd498a00070c8d82\n",
      "Successfully built gdown\n",
      "Installing collected packages: gdown\n",
      "Successfully installed gdown-4.5.1\n"
     ]
    }
   ],
   "source": [
    "pip install gdown"
   ]
  },
  {
   "cell_type": "code",
   "execution_count": 162,
   "id": "b2d687c6",
   "metadata": {},
   "outputs": [
    {
     "name": "stderr",
     "output_type": "stream",
     "text": [
      "Downloading...\n",
      "From: https://drive.google.com/uc?id=1kXqcJo4YzmwF1G2BPoA17CI49TZVHANF\n",
      "To: C:\\Users\\DELL\\Documents\\Kynea\\fitness.txt\n",
      "\n",
      "  0%|          | 0.00/3.14k [00:00<?, ?B/s]\n",
      "100%|##########| 3.14k/3.14k [00:00<?, ?B/s]\n"
     ]
    }
   ],
   "source": [
    "!gdown 1kXqcJo4YzmwF1G2BPoA17CI49TZVHANF"
   ]
  },
  {
   "cell_type": "code",
   "execution_count": 166,
   "id": "d1a9afd2",
   "metadata": {},
   "outputs": [],
   "source": [
    "data = np.loadtxt(r\"C:\\Users\\DELL\\Desktop\\fitness.txt\" , dtype=\"str\")"
   ]
  },
  {
   "cell_type": "code",
   "execution_count": 167,
   "id": "73572e50",
   "metadata": {},
   "outputs": [
    {
     "data": {
      "text/plain": [
       "array([['06-10-2017', '5464', '200', '181', '5', '0', '66'],\n",
       "       ['07-10-2017', '6041', '100', '197', '8', '0', '66'],\n",
       "       ['08-10-2017', '25', '100', '0', '5', '0', '66'],\n",
       "       ['09-10-2017', '5461', '100', '174', '4', '0', '66'],\n",
       "       ['10-10-2017', '6915', '200', '223', '5', '500', '66'],\n",
       "       ['11-10-2017', '4545', '100', '149', '6', '0', '66'],\n",
       "       ['12-10-2017', '4340', '100', '140', '6', '0', '66'],\n",
       "       ['13-10-2017', '1230', '100', '38', '7', '0', '66'],\n",
       "       ['14-10-2017', '61', '100', '1', '5', '0', '66'],\n",
       "       ['15-10-2017', '1258', '100', '40', '6', '0', '65'],\n",
       "       ['16-10-2017', '3148', '100', '101', '8', '0', '65'],\n",
       "       ['17-10-2017', '4687', '100', '152', '5', '0', '65'],\n",
       "       ['18-10-2017', '4732', '300', '150', '6', '500', '65'],\n",
       "       ['19-10-2017', '3519', '100', '113', '7', '0', '65'],\n",
       "       ['20-10-2017', '1580', '100', '49', '5', '0', '65'],\n",
       "       ['21-10-2017', '2822', '100', '86', '6', '0', '65'],\n",
       "       ['22-10-2017', '181', '100', '6', '8', '0', '65'],\n",
       "       ['23-10-2017', '3158', '200', '99', '5', '0', '65'],\n",
       "       ['24-10-2017', '4383', '200', '143', '4', '0', '64'],\n",
       "       ['25-10-2017', '3881', '200', '125', '5', '0', '64'],\n",
       "       ['26-10-2017', '4037', '200', '129', '6', '0', '64'],\n",
       "       ['27-10-2017', '202', '200', '6', '8', '0', '64'],\n",
       "       ['28-10-2017', '292', '200', '9', '5', '0', '64'],\n",
       "       ['29-10-2017', '330', '300', '10', '6', '0', '64'],\n",
       "       ['30-10-2017', '2209', '200', '72', '5', '0', '64'],\n",
       "       ['31-10-2017', '4550', '300', '150', '8', '500', '64'],\n",
       "       ['01-11-2017', '4435', '300', '141', '5', '0', '64'],\n",
       "       ['02-11-2017', '4779', '300', '156', '4', '0', '64'],\n",
       "       ['03-11-2017', '1831', '300', '57', '5', '0', '64'],\n",
       "       ['04-11-2017', '2255', '300', '72', '4', '0', '64'],\n",
       "       ['05-11-2017', '539', '300', '17', '5', '500', '64'],\n",
       "       ['06-11-2017', '5464', '300', '181', '4', '0', '64'],\n",
       "       ['07-11-2017', '6041', '200', '197', '3', '0', '64'],\n",
       "       ['08-11-2017', '4068', '300', '131', '2', '0', '64'],\n",
       "       ['09-11-2017', '4683', '300', '154', '9', '0', '64'],\n",
       "       ['10-11-2017', '4033', '300', '137', '5', '0', '64'],\n",
       "       ['11-11-2017', '6314', '300', '193', '6', '500', '64'],\n",
       "       ['12-11-2017', '614', '300', '19', '4', '500', '64'],\n",
       "       ['13-11-2017', '3149', '300', '101', '5', '500', '64'],\n",
       "       ['14-11-2017', '4005', '300', '139', '8', '500', '64'],\n",
       "       ['15-11-2017', '4880', '300', '164', '4', '500', '64'],\n",
       "       ['16-11-2017', '4136', '300', '137', '5', '500', '64'],\n",
       "       ['17-11-2017', '705', '300', '22', '6', '500', '64'],\n",
       "       ['18-11-2017', '570', '200', '17', '5', '500', '64'],\n",
       "       ['19-11-2017', '269', '300', '9', '6', '500', '64'],\n",
       "       ['20-11-2017', '4275', '300', '145', '5', '0', '64'],\n",
       "       ['21-11-2017', '5999', '300', '192', '6', '0', '64'],\n",
       "       ['22-11-2017', '4421', '300', '146', '5', '0', '64'],\n",
       "       ['23-11-2017', '6930', '300', '234', '6', '0', '64'],\n",
       "       ['24-11-2017', '5195', '300', '167', '5', '0', '64'],\n",
       "       ['25-11-2017', '546', '300', '16', '6', '0', '64'],\n",
       "       ['26-11-2017', '493', '300', '17', '7', '500', '64'],\n",
       "       ['27-11-2017', '995', '300', '32', '6', '500', '64'],\n",
       "       ['28-11-2017', '1163', '200', '35', '7', '500', '64'],\n",
       "       ['29-11-2017', '6676', '100', '220', '6', '500', '64'],\n",
       "       ['30-11-2017', '3608', '300', '116', '5', '500', '64'],\n",
       "       ['01-12-2017', '774', '300', '23', '6', '500', '64'],\n",
       "       ['02-12-2017', '1421', '300', '44', '7', '500', '64'],\n",
       "       ['03-12-2017', '4064', '300', '131', '8', '500', '64'],\n",
       "       ['04-12-2017', '2725', '300', '86', '8', '500', '64'],\n",
       "       ['05-12-2017', '5934', '300', '194', '7', '500', '64'],\n",
       "       ['06-12-2017', '1867', '300', '60', '8', '500', '64'],\n",
       "       ['07-12-2017', '3721', '100', '121', '5', '500', '64'],\n",
       "       ['08-12-2017', '2374', '200', '76', '4', '0', '64'],\n",
       "       ['09-12-2017', '2909', '200', '93', '3', '500', '64'],\n",
       "       ['10-12-2017', '1648', '100', '53', '3', '500', '64'],\n",
       "       ['11-12-2017', '799', '100', '25', '4', '0', '64'],\n",
       "       ['12-12-2017', '7102', '200', '227', '5', '500', '64'],\n",
       "       ['13-12-2017', '3941', '200', '125', '5', '500', '64'],\n",
       "       ['14-12-2017', '7422', '300', '243', '5', '500', '64'],\n",
       "       ['15-12-2017', '437', '200', '14', '3', '500', '64'],\n",
       "       ['16-12-2017', '1231', '200', '39', '4', '500', '64'],\n",
       "       ['17-12-2017', '1696', '100', '55', '4', '0', '64'],\n",
       "       ['18-12-2017', '4921', '200', '158', '5', '500', '64'],\n",
       "       ['19-12-2017', '221', '100', '7', '5', '500', '64'],\n",
       "       ['20-12-2017', '6500', '200', '213', '5', '500', '64'],\n",
       "       ['21-12-2017', '3575', '200', '116', '5', '500', '64'],\n",
       "       ['22-12-2017', '4061', '100', '129', '5', '0', '64'],\n",
       "       ['23-12-2017', '651', '100', '21', '5', '0', '64'],\n",
       "       ['24-12-2017', '753', '100', '28', '4', '0', '64'],\n",
       "       ['25-12-2017', '518', '100', '16', '3', '0', '64'],\n",
       "       ['26-12-2017', '5537', '300', '180', '4', '500', '64'],\n",
       "       ['27-12-2017', '4108', '200', '138', '5', '500', '64'],\n",
       "       ['28-12-2017', '5376', '300', '176', '5', '500', '64'],\n",
       "       ['29-12-2017', '3066', '200', '99', '4', '500', '64'],\n",
       "       ['30-12-2017', '177', '100', '5', '5', '0', '64'],\n",
       "       ['31-12-2017', '36', '100', '1', '3', '0', '64'],\n",
       "       ['01-01-2018', '299', '100', '10', '3', '0', '64'],\n",
       "       ['02-01-2018', '1447', '200', '47', '3', '0', '64'],\n",
       "       ['03-01-2018', '2599', '200', '84', '2', '0', '64'],\n",
       "       ['04-01-2018', '702', '100', '23', '3', '0', '64'],\n",
       "       ['05-01-2018', '133', '100', '4', '2', '0', '64'],\n",
       "       ['06-01-2018', '153', '300', '0', '8', '0', '64'],\n",
       "       ['07-01-2018', '500', '200', '0', '5', '500', '64'],\n",
       "       ['08-01-2018', '2127', '200', '0', '5', '0', '64'],\n",
       "       ['09-01-2018', '2203', '300', '0', '5', '500', '64']], dtype='<U10')"
      ]
     },
     "execution_count": 167,
     "metadata": {},
     "output_type": "execute_result"
    }
   ],
   "source": [
    "data"
   ]
  },
  {
   "cell_type": "code",
   "execution_count": 174,
   "id": "2c5aaace",
   "metadata": {},
   "outputs": [
    {
     "data": {
      "text/plain": [
       "numpy.ndarray"
      ]
     },
     "execution_count": 174,
     "metadata": {},
     "output_type": "execute_result"
    }
   ],
   "source": [
    "type(data) # Gives the type of data (in this case numpy array))."
   ]
  },
  {
   "cell_type": "code",
   "execution_count": 175,
   "id": "c90823d9",
   "metadata": {},
   "outputs": [
    {
     "data": {
      "text/plain": [
       "2"
      ]
     },
     "execution_count": 175,
     "metadata": {},
     "output_type": "execute_result"
    }
   ],
   "source": [
    "data.ndim # gives the dimensions of the data, in this case 2 dimensional (rows and columns))."
   ]
  },
  {
   "cell_type": "code",
   "execution_count": 176,
   "id": "f405e55b",
   "metadata": {},
   "outputs": [
    {
     "data": {
      "text/plain": [
       "(96, 7)"
      ]
     },
     "execution_count": 176,
     "metadata": {},
     "output_type": "execute_result"
    }
   ],
   "source": [
    "data.shape # Gives the number of rows and columns of the data."
   ]
  },
  {
   "cell_type": "markdown",
   "id": "80df7b70",
   "metadata": {},
   "source": [
    "# What are the number of records in the data ?"
   ]
  },
  {
   "cell_type": "markdown",
   "id": "46f3d958",
   "metadata": {},
   "source": [
    "# 96"
   ]
  },
  {
   "cell_type": "markdown",
   "id": "9ecb5a40",
   "metadata": {},
   "source": [
    "# What are the number of features present in the data ?"
   ]
  },
  {
   "cell_type": "markdown",
   "id": "1b19eb85",
   "metadata": {},
   "source": [
    "# 7"
   ]
  },
  {
   "cell_type": "markdown",
   "id": "7bb1c765",
   "metadata": {},
   "source": [
    "# What are the names of features in the data?"
   ]
  },
  {
   "cell_type": "code",
   "execution_count": 182,
   "id": "e44d0cc8",
   "metadata": {},
   "outputs": [],
   "source": [
    "# Date.\n",
    "# Step count. \n",
    "# Mood.\n",
    "# Calories burned.\n",
    "# Hours of sleep.\n",
    "# Activity Status.\n",
    "# Weight."
   ]
  },
  {
   "cell_type": "markdown",
   "id": "a3763665",
   "metadata": {},
   "source": [
    "# Print the first five rows of the data."
   ]
  },
  {
   "cell_type": "code",
   "execution_count": 188,
   "id": "51c43a41",
   "metadata": {},
   "outputs": [
    {
     "data": {
      "text/plain": [
       "array([['06-10-2017', '5464', '200', '181', '5', '0', '66'],\n",
       "       ['07-10-2017', '6041', '100', '197', '8', '0', '66'],\n",
       "       ['08-10-2017', '25', '100', '0', '5', '0', '66'],\n",
       "       ['09-10-2017', '5461', '100', '174', '4', '0', '66'],\n",
       "       ['10-10-2017', '6915', '200', '223', '5', '500', '66']],\n",
       "      dtype='<U10')"
      ]
     },
     "execution_count": 188,
     "metadata": {},
     "output_type": "execute_result"
    }
   ],
   "source": [
    "data[:5,:]"
   ]
  },
  {
   "cell_type": "markdown",
   "id": "4b5e1e5f",
   "metadata": {},
   "source": [
    "# Extract the first row. "
   ]
  },
  {
   "cell_type": "code",
   "execution_count": 189,
   "id": "83bf89ac",
   "metadata": {},
   "outputs": [
    {
     "data": {
      "text/plain": [
       "array([['06-10-2017', '5464', '200', '181', '5', '0', '66']], dtype='<U10')"
      ]
     },
     "execution_count": 189,
     "metadata": {},
     "output_type": "execute_result"
    }
   ],
   "source": [
    "data[:1,:]"
   ]
  },
  {
   "cell_type": "code",
   "execution_count": 190,
   "id": "13a4e18c",
   "metadata": {},
   "outputs": [
    {
     "data": {
      "text/plain": [
       "array(['06-10-2017', '5464', '200', '181', '5', '0', '66'], dtype='<U10')"
      ]
     },
     "execution_count": 190,
     "metadata": {},
     "output_type": "execute_result"
    }
   ],
   "source": [
    "data[0]"
   ]
  },
  {
   "cell_type": "markdown",
   "id": "cc46c3fd",
   "metadata": {},
   "source": [
    "# Extract the first Column "
   ]
  },
  {
   "cell_type": "code",
   "execution_count": 193,
   "id": "f86c4b10",
   "metadata": {},
   "outputs": [
    {
     "data": {
      "text/plain": [
       "array([['06-10-2017'],\n",
       "       ['07-10-2017'],\n",
       "       ['08-10-2017'],\n",
       "       ['09-10-2017'],\n",
       "       ['10-10-2017'],\n",
       "       ['11-10-2017'],\n",
       "       ['12-10-2017'],\n",
       "       ['13-10-2017'],\n",
       "       ['14-10-2017'],\n",
       "       ['15-10-2017'],\n",
       "       ['16-10-2017'],\n",
       "       ['17-10-2017'],\n",
       "       ['18-10-2017'],\n",
       "       ['19-10-2017'],\n",
       "       ['20-10-2017'],\n",
       "       ['21-10-2017'],\n",
       "       ['22-10-2017'],\n",
       "       ['23-10-2017'],\n",
       "       ['24-10-2017'],\n",
       "       ['25-10-2017'],\n",
       "       ['26-10-2017'],\n",
       "       ['27-10-2017'],\n",
       "       ['28-10-2017'],\n",
       "       ['29-10-2017'],\n",
       "       ['30-10-2017'],\n",
       "       ['31-10-2017'],\n",
       "       ['01-11-2017'],\n",
       "       ['02-11-2017'],\n",
       "       ['03-11-2017'],\n",
       "       ['04-11-2017'],\n",
       "       ['05-11-2017'],\n",
       "       ['06-11-2017'],\n",
       "       ['07-11-2017'],\n",
       "       ['08-11-2017'],\n",
       "       ['09-11-2017'],\n",
       "       ['10-11-2017'],\n",
       "       ['11-11-2017'],\n",
       "       ['12-11-2017'],\n",
       "       ['13-11-2017'],\n",
       "       ['14-11-2017'],\n",
       "       ['15-11-2017'],\n",
       "       ['16-11-2017'],\n",
       "       ['17-11-2017'],\n",
       "       ['18-11-2017'],\n",
       "       ['19-11-2017'],\n",
       "       ['20-11-2017'],\n",
       "       ['21-11-2017'],\n",
       "       ['22-11-2017'],\n",
       "       ['23-11-2017'],\n",
       "       ['24-11-2017'],\n",
       "       ['25-11-2017'],\n",
       "       ['26-11-2017'],\n",
       "       ['27-11-2017'],\n",
       "       ['28-11-2017'],\n",
       "       ['29-11-2017'],\n",
       "       ['30-11-2017'],\n",
       "       ['01-12-2017'],\n",
       "       ['02-12-2017'],\n",
       "       ['03-12-2017'],\n",
       "       ['04-12-2017'],\n",
       "       ['05-12-2017'],\n",
       "       ['06-12-2017'],\n",
       "       ['07-12-2017'],\n",
       "       ['08-12-2017'],\n",
       "       ['09-12-2017'],\n",
       "       ['10-12-2017'],\n",
       "       ['11-12-2017'],\n",
       "       ['12-12-2017'],\n",
       "       ['13-12-2017'],\n",
       "       ['14-12-2017'],\n",
       "       ['15-12-2017'],\n",
       "       ['16-12-2017'],\n",
       "       ['17-12-2017'],\n",
       "       ['18-12-2017'],\n",
       "       ['19-12-2017'],\n",
       "       ['20-12-2017'],\n",
       "       ['21-12-2017'],\n",
       "       ['22-12-2017'],\n",
       "       ['23-12-2017'],\n",
       "       ['24-12-2017'],\n",
       "       ['25-12-2017'],\n",
       "       ['26-12-2017'],\n",
       "       ['27-12-2017'],\n",
       "       ['28-12-2017'],\n",
       "       ['29-12-2017'],\n",
       "       ['30-12-2017'],\n",
       "       ['31-12-2017'],\n",
       "       ['01-01-2018'],\n",
       "       ['02-01-2018'],\n",
       "       ['03-01-2018'],\n",
       "       ['04-01-2018'],\n",
       "       ['05-01-2018'],\n",
       "       ['06-01-2018'],\n",
       "       ['07-01-2018'],\n",
       "       ['08-01-2018'],\n",
       "       ['09-01-2018']], dtype='<U10')"
      ]
     },
     "execution_count": 193,
     "metadata": {},
     "output_type": "execute_result"
    }
   ],
   "source": [
    "data[:,:1]"
   ]
  },
  {
   "cell_type": "code",
   "execution_count": 195,
   "id": "69c9f162",
   "metadata": {},
   "outputs": [
    {
     "data": {
      "text/plain": [
       "array(['06-10-2017', '07-10-2017', '08-10-2017', '09-10-2017',\n",
       "       '10-10-2017', '11-10-2017', '12-10-2017', '13-10-2017',\n",
       "       '14-10-2017', '15-10-2017', '16-10-2017', '17-10-2017',\n",
       "       '18-10-2017', '19-10-2017', '20-10-2017', '21-10-2017',\n",
       "       '22-10-2017', '23-10-2017', '24-10-2017', '25-10-2017',\n",
       "       '26-10-2017', '27-10-2017', '28-10-2017', '29-10-2017',\n",
       "       '30-10-2017', '31-10-2017', '01-11-2017', '02-11-2017',\n",
       "       '03-11-2017', '04-11-2017', '05-11-2017', '06-11-2017',\n",
       "       '07-11-2017', '08-11-2017', '09-11-2017', '10-11-2017',\n",
       "       '11-11-2017', '12-11-2017', '13-11-2017', '14-11-2017',\n",
       "       '15-11-2017', '16-11-2017', '17-11-2017', '18-11-2017',\n",
       "       '19-11-2017', '20-11-2017', '21-11-2017', '22-11-2017',\n",
       "       '23-11-2017', '24-11-2017', '25-11-2017', '26-11-2017',\n",
       "       '27-11-2017', '28-11-2017', '29-11-2017', '30-11-2017',\n",
       "       '01-12-2017', '02-12-2017', '03-12-2017', '04-12-2017',\n",
       "       '05-12-2017', '06-12-2017', '07-12-2017', '08-12-2017',\n",
       "       '09-12-2017', '10-12-2017', '11-12-2017', '12-12-2017',\n",
       "       '13-12-2017', '14-12-2017', '15-12-2017', '16-12-2017',\n",
       "       '17-12-2017', '18-12-2017', '19-12-2017', '20-12-2017',\n",
       "       '21-12-2017', '22-12-2017', '23-12-2017', '24-12-2017',\n",
       "       '25-12-2017', '26-12-2017', '27-12-2017', '28-12-2017',\n",
       "       '29-12-2017', '30-12-2017', '31-12-2017', '01-01-2018',\n",
       "       '02-01-2018', '03-01-2018', '04-01-2018', '05-01-2018',\n",
       "       '06-01-2018', '07-01-2018', '08-01-2018', '09-01-2018'],\n",
       "      dtype='<U10')"
      ]
     },
     "execution_count": 195,
     "metadata": {},
     "output_type": "execute_result"
    }
   ],
   "source": [
    "data[:,0]"
   ]
  },
  {
   "cell_type": "markdown",
   "id": "b3a50fd3",
   "metadata": {},
   "source": [
    "# Extract the first two columns "
   ]
  },
  {
   "cell_type": "code",
   "execution_count": 216,
   "id": "c94edbbd",
   "metadata": {},
   "outputs": [
    {
     "data": {
      "text/plain": [
       "array([['06-10-2017', '5464'],\n",
       "       ['07-10-2017', '6041'],\n",
       "       ['08-10-2017', '25'],\n",
       "       ['09-10-2017', '5461'],\n",
       "       ['10-10-2017', '6915'],\n",
       "       ['11-10-2017', '4545'],\n",
       "       ['12-10-2017', '4340'],\n",
       "       ['13-10-2017', '1230'],\n",
       "       ['14-10-2017', '61'],\n",
       "       ['15-10-2017', '1258'],\n",
       "       ['16-10-2017', '3148'],\n",
       "       ['17-10-2017', '4687'],\n",
       "       ['18-10-2017', '4732'],\n",
       "       ['19-10-2017', '3519'],\n",
       "       ['20-10-2017', '1580'],\n",
       "       ['21-10-2017', '2822'],\n",
       "       ['22-10-2017', '181'],\n",
       "       ['23-10-2017', '3158'],\n",
       "       ['24-10-2017', '4383'],\n",
       "       ['25-10-2017', '3881'],\n",
       "       ['26-10-2017', '4037'],\n",
       "       ['27-10-2017', '202'],\n",
       "       ['28-10-2017', '292'],\n",
       "       ['29-10-2017', '330'],\n",
       "       ['30-10-2017', '2209'],\n",
       "       ['31-10-2017', '4550'],\n",
       "       ['01-11-2017', '4435'],\n",
       "       ['02-11-2017', '4779'],\n",
       "       ['03-11-2017', '1831'],\n",
       "       ['04-11-2017', '2255'],\n",
       "       ['05-11-2017', '539'],\n",
       "       ['06-11-2017', '5464'],\n",
       "       ['07-11-2017', '6041'],\n",
       "       ['08-11-2017', '4068'],\n",
       "       ['09-11-2017', '4683'],\n",
       "       ['10-11-2017', '4033'],\n",
       "       ['11-11-2017', '6314'],\n",
       "       ['12-11-2017', '614'],\n",
       "       ['13-11-2017', '3149'],\n",
       "       ['14-11-2017', '4005'],\n",
       "       ['15-11-2017', '4880'],\n",
       "       ['16-11-2017', '4136'],\n",
       "       ['17-11-2017', '705'],\n",
       "       ['18-11-2017', '570'],\n",
       "       ['19-11-2017', '269'],\n",
       "       ['20-11-2017', '4275'],\n",
       "       ['21-11-2017', '5999'],\n",
       "       ['22-11-2017', '4421'],\n",
       "       ['23-11-2017', '6930'],\n",
       "       ['24-11-2017', '5195'],\n",
       "       ['25-11-2017', '546'],\n",
       "       ['26-11-2017', '493'],\n",
       "       ['27-11-2017', '995'],\n",
       "       ['28-11-2017', '1163'],\n",
       "       ['29-11-2017', '6676'],\n",
       "       ['30-11-2017', '3608'],\n",
       "       ['01-12-2017', '774'],\n",
       "       ['02-12-2017', '1421'],\n",
       "       ['03-12-2017', '4064'],\n",
       "       ['04-12-2017', '2725'],\n",
       "       ['05-12-2017', '5934'],\n",
       "       ['06-12-2017', '1867'],\n",
       "       ['07-12-2017', '3721'],\n",
       "       ['08-12-2017', '2374'],\n",
       "       ['09-12-2017', '2909'],\n",
       "       ['10-12-2017', '1648'],\n",
       "       ['11-12-2017', '799'],\n",
       "       ['12-12-2017', '7102'],\n",
       "       ['13-12-2017', '3941'],\n",
       "       ['14-12-2017', '7422'],\n",
       "       ['15-12-2017', '437'],\n",
       "       ['16-12-2017', '1231'],\n",
       "       ['17-12-2017', '1696'],\n",
       "       ['18-12-2017', '4921'],\n",
       "       ['19-12-2017', '221'],\n",
       "       ['20-12-2017', '6500'],\n",
       "       ['21-12-2017', '3575'],\n",
       "       ['22-12-2017', '4061'],\n",
       "       ['23-12-2017', '651'],\n",
       "       ['24-12-2017', '753'],\n",
       "       ['25-12-2017', '518'],\n",
       "       ['26-12-2017', '5537'],\n",
       "       ['27-12-2017', '4108'],\n",
       "       ['28-12-2017', '5376'],\n",
       "       ['29-12-2017', '3066'],\n",
       "       ['30-12-2017', '177'],\n",
       "       ['31-12-2017', '36'],\n",
       "       ['01-01-2018', '299'],\n",
       "       ['02-01-2018', '1447'],\n",
       "       ['03-01-2018', '2599'],\n",
       "       ['04-01-2018', '702'],\n",
       "       ['05-01-2018', '133'],\n",
       "       ['06-01-2018', '153'],\n",
       "       ['07-01-2018', '500'],\n",
       "       ['08-01-2018', '2127'],\n",
       "       ['09-01-2018', '2203']], dtype='<U10')"
      ]
     },
     "execution_count": 216,
     "metadata": {},
     "output_type": "execute_result"
    }
   ],
   "source": [
    "data[:,:2]"
   ]
  },
  {
   "cell_type": "code",
   "execution_count": 210,
   "id": "62b9aaef",
   "metadata": {},
   "outputs": [],
   "source": [
    "date = data[:,0]"
   ]
  },
  {
   "cell_type": "code",
   "execution_count": 211,
   "id": "07b44cb0",
   "metadata": {},
   "outputs": [
    {
     "data": {
      "text/plain": [
       "array(['06-10-2017', '07-10-2017', '08-10-2017', '09-10-2017',\n",
       "       '10-10-2017', '11-10-2017', '12-10-2017', '13-10-2017',\n",
       "       '14-10-2017', '15-10-2017', '16-10-2017', '17-10-2017',\n",
       "       '18-10-2017', '19-10-2017', '20-10-2017', '21-10-2017',\n",
       "       '22-10-2017', '23-10-2017', '24-10-2017', '25-10-2017',\n",
       "       '26-10-2017', '27-10-2017', '28-10-2017', '29-10-2017',\n",
       "       '30-10-2017', '31-10-2017', '01-11-2017', '02-11-2017',\n",
       "       '03-11-2017', '04-11-2017', '05-11-2017', '06-11-2017',\n",
       "       '07-11-2017', '08-11-2017', '09-11-2017', '10-11-2017',\n",
       "       '11-11-2017', '12-11-2017', '13-11-2017', '14-11-2017',\n",
       "       '15-11-2017', '16-11-2017', '17-11-2017', '18-11-2017',\n",
       "       '19-11-2017', '20-11-2017', '21-11-2017', '22-11-2017',\n",
       "       '23-11-2017', '24-11-2017', '25-11-2017', '26-11-2017',\n",
       "       '27-11-2017', '28-11-2017', '29-11-2017', '30-11-2017',\n",
       "       '01-12-2017', '02-12-2017', '03-12-2017', '04-12-2017',\n",
       "       '05-12-2017', '06-12-2017', '07-12-2017', '08-12-2017',\n",
       "       '09-12-2017', '10-12-2017', '11-12-2017', '12-12-2017',\n",
       "       '13-12-2017', '14-12-2017', '15-12-2017', '16-12-2017',\n",
       "       '17-12-2017', '18-12-2017', '19-12-2017', '20-12-2017',\n",
       "       '21-12-2017', '22-12-2017', '23-12-2017', '24-12-2017',\n",
       "       '25-12-2017', '26-12-2017', '27-12-2017', '28-12-2017',\n",
       "       '29-12-2017', '30-12-2017', '31-12-2017', '01-01-2018',\n",
       "       '02-01-2018', '03-01-2018', '04-01-2018', '05-01-2018',\n",
       "       '06-01-2018', '07-01-2018', '08-01-2018', '09-01-2018'],\n",
       "      dtype='<U10')"
      ]
     },
     "execution_count": 211,
     "metadata": {},
     "output_type": "execute_result"
    }
   ],
   "source": [
    "date"
   ]
  },
  {
   "cell_type": "code",
   "execution_count": 214,
   "id": "7c9c263d",
   "metadata": {},
   "outputs": [],
   "source": [
    "step_count = data[:,1]"
   ]
  },
  {
   "cell_type": "code",
   "execution_count": 215,
   "id": "a2415a7c",
   "metadata": {},
   "outputs": [
    {
     "data": {
      "text/plain": [
       "array(['5464', '6041', '25', '5461', '6915', '4545', '4340', '1230', '61',\n",
       "       '1258', '3148', '4687', '4732', '3519', '1580', '2822', '181',\n",
       "       '3158', '4383', '3881', '4037', '202', '292', '330', '2209',\n",
       "       '4550', '4435', '4779', '1831', '2255', '539', '5464', '6041',\n",
       "       '4068', '4683', '4033', '6314', '614', '3149', '4005', '4880',\n",
       "       '4136', '705', '570', '269', '4275', '5999', '4421', '6930',\n",
       "       '5195', '546', '493', '995', '1163', '6676', '3608', '774', '1421',\n",
       "       '4064', '2725', '5934', '1867', '3721', '2374', '2909', '1648',\n",
       "       '799', '7102', '3941', '7422', '437', '1231', '1696', '4921',\n",
       "       '221', '6500', '3575', '4061', '651', '753', '518', '5537', '4108',\n",
       "       '5376', '3066', '177', '36', '299', '1447', '2599', '702', '133',\n",
       "       '153', '500', '2127', '2203'], dtype='<U10')"
      ]
     },
     "execution_count": 215,
     "metadata": {},
     "output_type": "execute_result"
    }
   ],
   "source": [
    "step_count"
   ]
  },
  {
   "cell_type": "markdown",
   "id": "853894f8",
   "metadata": {},
   "source": [
    "# Note - Instead of slicing to assign the variable names to the columns each single time, Transpose function cane be used to assign the names for the columns, in a single go. "
   ]
  },
  {
   "cell_type": "code",
   "execution_count": 220,
   "id": "93a6060a",
   "metadata": {},
   "outputs": [],
   "source": [
    "Date , Step_Count = data.T[:2]"
   ]
  },
  {
   "cell_type": "code",
   "execution_count": 221,
   "id": "46b19880",
   "metadata": {},
   "outputs": [
    {
     "data": {
      "text/plain": [
       "array(['06-10-2017', '07-10-2017', '08-10-2017', '09-10-2017',\n",
       "       '10-10-2017', '11-10-2017', '12-10-2017', '13-10-2017',\n",
       "       '14-10-2017', '15-10-2017', '16-10-2017', '17-10-2017',\n",
       "       '18-10-2017', '19-10-2017', '20-10-2017', '21-10-2017',\n",
       "       '22-10-2017', '23-10-2017', '24-10-2017', '25-10-2017',\n",
       "       '26-10-2017', '27-10-2017', '28-10-2017', '29-10-2017',\n",
       "       '30-10-2017', '31-10-2017', '01-11-2017', '02-11-2017',\n",
       "       '03-11-2017', '04-11-2017', '05-11-2017', '06-11-2017',\n",
       "       '07-11-2017', '08-11-2017', '09-11-2017', '10-11-2017',\n",
       "       '11-11-2017', '12-11-2017', '13-11-2017', '14-11-2017',\n",
       "       '15-11-2017', '16-11-2017', '17-11-2017', '18-11-2017',\n",
       "       '19-11-2017', '20-11-2017', '21-11-2017', '22-11-2017',\n",
       "       '23-11-2017', '24-11-2017', '25-11-2017', '26-11-2017',\n",
       "       '27-11-2017', '28-11-2017', '29-11-2017', '30-11-2017',\n",
       "       '01-12-2017', '02-12-2017', '03-12-2017', '04-12-2017',\n",
       "       '05-12-2017', '06-12-2017', '07-12-2017', '08-12-2017',\n",
       "       '09-12-2017', '10-12-2017', '11-12-2017', '12-12-2017',\n",
       "       '13-12-2017', '14-12-2017', '15-12-2017', '16-12-2017',\n",
       "       '17-12-2017', '18-12-2017', '19-12-2017', '20-12-2017',\n",
       "       '21-12-2017', '22-12-2017', '23-12-2017', '24-12-2017',\n",
       "       '25-12-2017', '26-12-2017', '27-12-2017', '28-12-2017',\n",
       "       '29-12-2017', '30-12-2017', '31-12-2017', '01-01-2018',\n",
       "       '02-01-2018', '03-01-2018', '04-01-2018', '05-01-2018',\n",
       "       '06-01-2018', '07-01-2018', '08-01-2018', '09-01-2018'],\n",
       "      dtype='<U10')"
      ]
     },
     "execution_count": 221,
     "metadata": {},
     "output_type": "execute_result"
    }
   ],
   "source": [
    "Date"
   ]
  },
  {
   "cell_type": "code",
   "execution_count": 222,
   "id": "769fb8ba",
   "metadata": {},
   "outputs": [
    {
     "data": {
      "text/plain": [
       "array(['5464', '6041', '25', '5461', '6915', '4545', '4340', '1230', '61',\n",
       "       '1258', '3148', '4687', '4732', '3519', '1580', '2822', '181',\n",
       "       '3158', '4383', '3881', '4037', '202', '292', '330', '2209',\n",
       "       '4550', '4435', '4779', '1831', '2255', '539', '5464', '6041',\n",
       "       '4068', '4683', '4033', '6314', '614', '3149', '4005', '4880',\n",
       "       '4136', '705', '570', '269', '4275', '5999', '4421', '6930',\n",
       "       '5195', '546', '493', '995', '1163', '6676', '3608', '774', '1421',\n",
       "       '4064', '2725', '5934', '1867', '3721', '2374', '2909', '1648',\n",
       "       '799', '7102', '3941', '7422', '437', '1231', '1696', '4921',\n",
       "       '221', '6500', '3575', '4061', '651', '753', '518', '5537', '4108',\n",
       "       '5376', '3066', '177', '36', '299', '1447', '2599', '702', '133',\n",
       "       '153', '500', '2127', '2203'], dtype='<U10')"
      ]
     },
     "execution_count": 222,
     "metadata": {},
     "output_type": "execute_result"
    }
   ],
   "source": [
    "Step_Count"
   ]
  },
  {
   "cell_type": "markdown",
   "id": "42a46808",
   "metadata": {},
   "source": [
    "# Assign all the variable names to the columns. "
   ]
  },
  {
   "cell_type": "code",
   "execution_count": 223,
   "id": "75f7164e",
   "metadata": {},
   "outputs": [],
   "source": [
    "Date,Step_Count,Mood,Calories_burned,Hours_Sleep,Activity_status,Weight = data.T[:]"
   ]
  },
  {
   "cell_type": "code",
   "execution_count": 224,
   "id": "23c36eee",
   "metadata": {},
   "outputs": [
    {
     "data": {
      "text/plain": [
       "array(['06-10-2017', '07-10-2017', '08-10-2017', '09-10-2017',\n",
       "       '10-10-2017', '11-10-2017', '12-10-2017', '13-10-2017',\n",
       "       '14-10-2017', '15-10-2017', '16-10-2017', '17-10-2017',\n",
       "       '18-10-2017', '19-10-2017', '20-10-2017', '21-10-2017',\n",
       "       '22-10-2017', '23-10-2017', '24-10-2017', '25-10-2017',\n",
       "       '26-10-2017', '27-10-2017', '28-10-2017', '29-10-2017',\n",
       "       '30-10-2017', '31-10-2017', '01-11-2017', '02-11-2017',\n",
       "       '03-11-2017', '04-11-2017', '05-11-2017', '06-11-2017',\n",
       "       '07-11-2017', '08-11-2017', '09-11-2017', '10-11-2017',\n",
       "       '11-11-2017', '12-11-2017', '13-11-2017', '14-11-2017',\n",
       "       '15-11-2017', '16-11-2017', '17-11-2017', '18-11-2017',\n",
       "       '19-11-2017', '20-11-2017', '21-11-2017', '22-11-2017',\n",
       "       '23-11-2017', '24-11-2017', '25-11-2017', '26-11-2017',\n",
       "       '27-11-2017', '28-11-2017', '29-11-2017', '30-11-2017',\n",
       "       '01-12-2017', '02-12-2017', '03-12-2017', '04-12-2017',\n",
       "       '05-12-2017', '06-12-2017', '07-12-2017', '08-12-2017',\n",
       "       '09-12-2017', '10-12-2017', '11-12-2017', '12-12-2017',\n",
       "       '13-12-2017', '14-12-2017', '15-12-2017', '16-12-2017',\n",
       "       '17-12-2017', '18-12-2017', '19-12-2017', '20-12-2017',\n",
       "       '21-12-2017', '22-12-2017', '23-12-2017', '24-12-2017',\n",
       "       '25-12-2017', '26-12-2017', '27-12-2017', '28-12-2017',\n",
       "       '29-12-2017', '30-12-2017', '31-12-2017', '01-01-2018',\n",
       "       '02-01-2018', '03-01-2018', '04-01-2018', '05-01-2018',\n",
       "       '06-01-2018', '07-01-2018', '08-01-2018', '09-01-2018'],\n",
       "      dtype='<U10')"
      ]
     },
     "execution_count": 224,
     "metadata": {},
     "output_type": "execute_result"
    }
   ],
   "source": [
    "Date"
   ]
  },
  {
   "cell_type": "code",
   "execution_count": 225,
   "id": "21f649d1",
   "metadata": {},
   "outputs": [
    {
     "data": {
      "text/plain": [
       "array(['5464', '6041', '25', '5461', '6915', '4545', '4340', '1230', '61',\n",
       "       '1258', '3148', '4687', '4732', '3519', '1580', '2822', '181',\n",
       "       '3158', '4383', '3881', '4037', '202', '292', '330', '2209',\n",
       "       '4550', '4435', '4779', '1831', '2255', '539', '5464', '6041',\n",
       "       '4068', '4683', '4033', '6314', '614', '3149', '4005', '4880',\n",
       "       '4136', '705', '570', '269', '4275', '5999', '4421', '6930',\n",
       "       '5195', '546', '493', '995', '1163', '6676', '3608', '774', '1421',\n",
       "       '4064', '2725', '5934', '1867', '3721', '2374', '2909', '1648',\n",
       "       '799', '7102', '3941', '7422', '437', '1231', '1696', '4921',\n",
       "       '221', '6500', '3575', '4061', '651', '753', '518', '5537', '4108',\n",
       "       '5376', '3066', '177', '36', '299', '1447', '2599', '702', '133',\n",
       "       '153', '500', '2127', '2203'], dtype='<U10')"
      ]
     },
     "execution_count": 225,
     "metadata": {},
     "output_type": "execute_result"
    }
   ],
   "source": [
    "Step_Count"
   ]
  },
  {
   "cell_type": "code",
   "execution_count": 226,
   "id": "47c0ef92",
   "metadata": {},
   "outputs": [
    {
     "data": {
      "text/plain": [
       "array(['200', '100', '100', '100', '200', '100', '100', '100', '100',\n",
       "       '100', '100', '100', '300', '100', '100', '100', '100', '200',\n",
       "       '200', '200', '200', '200', '200', '300', '200', '300', '300',\n",
       "       '300', '300', '300', '300', '300', '200', '300', '300', '300',\n",
       "       '300', '300', '300', '300', '300', '300', '300', '200', '300',\n",
       "       '300', '300', '300', '300', '300', '300', '300', '300', '200',\n",
       "       '100', '300', '300', '300', '300', '300', '300', '300', '100',\n",
       "       '200', '200', '100', '100', '200', '200', '300', '200', '200',\n",
       "       '100', '200', '100', '200', '200', '100', '100', '100', '100',\n",
       "       '300', '200', '300', '200', '100', '100', '100', '200', '200',\n",
       "       '100', '100', '300', '200', '200', '300'], dtype='<U10')"
      ]
     },
     "execution_count": 226,
     "metadata": {},
     "output_type": "execute_result"
    }
   ],
   "source": [
    "Mood"
   ]
  },
  {
   "cell_type": "code",
   "execution_count": 227,
   "id": "90f7643a",
   "metadata": {},
   "outputs": [
    {
     "data": {
      "text/plain": [
       "array(['181', '197', '0', '174', '223', '149', '140', '38', '1', '40',\n",
       "       '101', '152', '150', '113', '49', '86', '6', '99', '143', '125',\n",
       "       '129', '6', '9', '10', '72', '150', '141', '156', '57', '72', '17',\n",
       "       '181', '197', '131', '154', '137', '193', '19', '101', '139',\n",
       "       '164', '137', '22', '17', '9', '145', '192', '146', '234', '167',\n",
       "       '16', '17', '32', '35', '220', '116', '23', '44', '131', '86',\n",
       "       '194', '60', '121', '76', '93', '53', '25', '227', '125', '243',\n",
       "       '14', '39', '55', '158', '7', '213', '116', '129', '21', '28',\n",
       "       '16', '180', '138', '176', '99', '5', '1', '10', '47', '84', '23',\n",
       "       '4', '0', '0', '0', '0'], dtype='<U10')"
      ]
     },
     "execution_count": 227,
     "metadata": {},
     "output_type": "execute_result"
    }
   ],
   "source": [
    "Calories_burned"
   ]
  },
  {
   "cell_type": "code",
   "execution_count": 228,
   "id": "64fa2f2e",
   "metadata": {},
   "outputs": [
    {
     "data": {
      "text/plain": [
       "array(['5', '8', '5', '4', '5', '6', '6', '7', '5', '6', '8', '5', '6',\n",
       "       '7', '5', '6', '8', '5', '4', '5', '6', '8', '5', '6', '5', '8',\n",
       "       '5', '4', '5', '4', '5', '4', '3', '2', '9', '5', '6', '4', '5',\n",
       "       '8', '4', '5', '6', '5', '6', '5', '6', '5', '6', '5', '6', '7',\n",
       "       '6', '7', '6', '5', '6', '7', '8', '8', '7', '8', '5', '4', '3',\n",
       "       '3', '4', '5', '5', '5', '3', '4', '4', '5', '5', '5', '5', '5',\n",
       "       '5', '4', '3', '4', '5', '5', '4', '5', '3', '3', '3', '2', '3',\n",
       "       '2', '8', '5', '5', '5'], dtype='<U10')"
      ]
     },
     "execution_count": 228,
     "metadata": {},
     "output_type": "execute_result"
    }
   ],
   "source": [
    "Hours_Sleep"
   ]
  },
  {
   "cell_type": "code",
   "execution_count": 230,
   "id": "ab310455",
   "metadata": {},
   "outputs": [
    {
     "data": {
      "text/plain": [
       "array(['0', '0', '0', '0', '500', '0', '0', '0', '0', '0', '0', '0',\n",
       "       '500', '0', '0', '0', '0', '0', '0', '0', '0', '0', '0', '0', '0',\n",
       "       '500', '0', '0', '0', '0', '500', '0', '0', '0', '0', '0', '500',\n",
       "       '500', '500', '500', '500', '500', '500', '500', '500', '0', '0',\n",
       "       '0', '0', '0', '0', '500', '500', '500', '500', '500', '500',\n",
       "       '500', '500', '500', '500', '500', '500', '0', '500', '500', '0',\n",
       "       '500', '500', '500', '500', '500', '0', '500', '500', '500', '500',\n",
       "       '0', '0', '0', '0', '500', '500', '500', '500', '0', '0', '0', '0',\n",
       "       '0', '0', '0', '0', '500', '0', '500'], dtype='<U10')"
      ]
     },
     "execution_count": 230,
     "metadata": {},
     "output_type": "execute_result"
    }
   ],
   "source": [
    "Activity_status"
   ]
  },
  {
   "cell_type": "code",
   "execution_count": 231,
   "id": "eb55526d",
   "metadata": {},
   "outputs": [
    {
     "data": {
      "text/plain": [
       "array(['66', '66', '66', '66', '66', '66', '66', '66', '66', '65', '65',\n",
       "       '65', '65', '65', '65', '65', '65', '65', '64', '64', '64', '64',\n",
       "       '64', '64', '64', '64', '64', '64', '64', '64', '64', '64', '64',\n",
       "       '64', '64', '64', '64', '64', '64', '64', '64', '64', '64', '64',\n",
       "       '64', '64', '64', '64', '64', '64', '64', '64', '64', '64', '64',\n",
       "       '64', '64', '64', '64', '64', '64', '64', '64', '64', '64', '64',\n",
       "       '64', '64', '64', '64', '64', '64', '64', '64', '64', '64', '64',\n",
       "       '64', '64', '64', '64', '64', '64', '64', '64', '64', '64', '64',\n",
       "       '64', '64', '64', '64', '64', '64', '64', '64'], dtype='<U10')"
      ]
     },
     "execution_count": 231,
     "metadata": {},
     "output_type": "execute_result"
    }
   ],
   "source": [
    "Weight"
   ]
  },
  {
   "cell_type": "code",
   "execution_count": 234,
   "id": "cc6eea51",
   "metadata": {},
   "outputs": [
    {
     "data": {
      "text/plain": [
       "array([5464, 6041,   25, 5461, 6915, 4545, 4340, 1230,   61, 1258, 3148,\n",
       "       4687, 4732, 3519, 1580, 2822,  181, 3158, 4383, 3881, 4037,  202,\n",
       "        292,  330, 2209, 4550, 4435, 4779, 1831, 2255,  539, 5464, 6041,\n",
       "       4068, 4683, 4033, 6314,  614, 3149, 4005, 4880, 4136,  705,  570,\n",
       "        269, 4275, 5999, 4421, 6930, 5195,  546,  493,  995, 1163, 6676,\n",
       "       3608,  774, 1421, 4064, 2725, 5934, 1867, 3721, 2374, 2909, 1648,\n",
       "        799, 7102, 3941, 7422,  437, 1231, 1696, 4921,  221, 6500, 3575,\n",
       "       4061,  651,  753,  518, 5537, 4108, 5376, 3066,  177,   36,  299,\n",
       "       1447, 2599,  702,  133,  153,  500, 2127, 2203])"
      ]
     },
     "execution_count": 234,
     "metadata": {},
     "output_type": "execute_result"
    }
   ],
   "source": [
    "Step_Count = np.array(Step_Count , dtype = \"int\")\n",
    "Step_Count "
   ]
  },
  {
   "cell_type": "code",
   "execution_count": 236,
   "id": "46cb1dae",
   "metadata": {},
   "outputs": [
    {
     "data": {
      "text/plain": [
       "array([5, 8, 5, 4, 5, 6, 6, 7, 5, 6, 8, 5, 6, 7, 5, 6, 8, 5, 4, 5, 6, 8,\n",
       "       5, 6, 5, 8, 5, 4, 5, 4, 5, 4, 3, 2, 9, 5, 6, 4, 5, 8, 4, 5, 6, 5,\n",
       "       6, 5, 6, 5, 6, 5, 6, 7, 6, 7, 6, 5, 6, 7, 8, 8, 7, 8, 5, 4, 3, 3,\n",
       "       4, 5, 5, 5, 3, 4, 4, 5, 5, 5, 5, 5, 5, 4, 3, 4, 5, 5, 4, 5, 3, 3,\n",
       "       3, 2, 3, 2, 8, 5, 5, 5])"
      ]
     },
     "execution_count": 236,
     "metadata": {},
     "output_type": "execute_result"
    }
   ],
   "source": [
    "Hours_Sleep = np.array(Hours_Sleep , dtype = \"int\")\n",
    "Hours_Sleep"
   ]
  },
  {
   "cell_type": "code",
   "execution_count": 238,
   "id": "c98c9884",
   "metadata": {},
   "outputs": [
    {
     "data": {
      "text/plain": [
       "array([181, 197,   0, 174, 223, 149, 140,  38,   1,  40, 101, 152, 150,\n",
       "       113,  49,  86,   6,  99, 143, 125, 129,   6,   9,  10,  72, 150,\n",
       "       141, 156,  57,  72,  17, 181, 197, 131, 154, 137, 193,  19, 101,\n",
       "       139, 164, 137,  22,  17,   9, 145, 192, 146, 234, 167,  16,  17,\n",
       "        32,  35, 220, 116,  23,  44, 131,  86, 194,  60, 121,  76,  93,\n",
       "        53,  25, 227, 125, 243,  14,  39,  55, 158,   7, 213, 116, 129,\n",
       "        21,  28,  16, 180, 138, 176,  99,   5,   1,  10,  47,  84,  23,\n",
       "         4,   0,   0,   0,   0])"
      ]
     },
     "execution_count": 238,
     "metadata": {},
     "output_type": "execute_result"
    }
   ],
   "source": [
    "Calories_burned = np.array(Calories_burned , dtype = \"int\")\n",
    "Calories_burned"
   ]
  },
  {
   "cell_type": "code",
   "execution_count": 240,
   "id": "545f3827",
   "metadata": {},
   "outputs": [
    {
     "data": {
      "text/plain": [
       "array([66, 66, 66, 66, 66, 66, 66, 66, 66, 65, 65, 65, 65, 65, 65, 65, 65,\n",
       "       65, 64, 64, 64, 64, 64, 64, 64, 64, 64, 64, 64, 64, 64, 64, 64, 64,\n",
       "       64, 64, 64, 64, 64, 64, 64, 64, 64, 64, 64, 64, 64, 64, 64, 64, 64,\n",
       "       64, 64, 64, 64, 64, 64, 64, 64, 64, 64, 64, 64, 64, 64, 64, 64, 64,\n",
       "       64, 64, 64, 64, 64, 64, 64, 64, 64, 64, 64, 64, 64, 64, 64, 64, 64,\n",
       "       64, 64, 64, 64, 64, 64, 64, 64, 64, 64, 64])"
      ]
     },
     "execution_count": 240,
     "metadata": {},
     "output_type": "execute_result"
    }
   ],
   "source": [
    "Weight = np.array(Weight , dtype = \"int\")\n",
    "Weight "
   ]
  },
  {
   "cell_type": "code",
   "execution_count": 242,
   "id": "1b9740a4",
   "metadata": {},
   "outputs": [
    {
     "data": {
      "text/plain": [
       "array(['200', '100', '100', '100', '200', '100', '100', '100', '100',\n",
       "       '100', '100', '100', '300', '100', '100', '100', '100', '200',\n",
       "       '200', '200', '200', '200', '200', '300', '200', '300', '300',\n",
       "       '300', '300', '300', '300', '300', '200', '300', '300', '300',\n",
       "       '300', '300', '300', '300', '300', '300', '300', '200', '300',\n",
       "       '300', '300', '300', '300', '300', '300', '300', '300', '200',\n",
       "       '100', '300', '300', '300', '300', '300', '300', '300', '100',\n",
       "       '200', '200', '100', '100', '200', '200', '300', '200', '200',\n",
       "       '100', '200', '100', '200', '200', '100', '100', '100', '100',\n",
       "       '300', '200', '300', '200', '100', '100', '100', '200', '200',\n",
       "       '100', '100', '300', '200', '200', '300'], dtype='<U10')"
      ]
     },
     "execution_count": 242,
     "metadata": {},
     "output_type": "execute_result"
    }
   ],
   "source": [
    "Mood"
   ]
  },
  {
   "cell_type": "markdown",
   "id": "9c40b954",
   "metadata": {},
   "source": [
    "# Note - In the above \"Mood\" is the categorical variable, because the numbers 100,200,300 represents a category."
   ]
  },
  {
   "cell_type": "markdown",
   "id": "2607ae49",
   "metadata": {},
   "source": [
    "# How many unique values are there in the column \"Mood\""
   ]
  },
  {
   "cell_type": "code",
   "execution_count": 245,
   "id": "f7c85162",
   "metadata": {},
   "outputs": [
    {
     "data": {
      "text/plain": [
       "array(['100', '200', '300'], dtype='<U10')"
      ]
     },
     "execution_count": 245,
     "metadata": {},
     "output_type": "execute_result"
    }
   ],
   "source": [
    "np.unique(Mood)"
   ]
  },
  {
   "cell_type": "code",
   "execution_count": 261,
   "id": "b0b26c8a",
   "metadata": {},
   "outputs": [
    {
     "data": {
      "text/plain": [
       "array([False, False, False, False, False, False, False, False, False,\n",
       "       False, False, False,  True, False, False, False, False, False,\n",
       "       False, False, False, False, False,  True, False,  True,  True,\n",
       "        True,  True,  True,  True,  True, False,  True,  True,  True,\n",
       "        True,  True,  True,  True,  True,  True,  True, False,  True,\n",
       "        True,  True,  True,  True,  True,  True,  True,  True, False,\n",
       "       False,  True,  True,  True,  True,  True,  True,  True, False,\n",
       "       False, False, False, False, False, False,  True, False, False,\n",
       "       False, False, False, False, False, False, False, False, False,\n",
       "        True, False,  True, False, False, False, False, False, False,\n",
       "       False, False,  True, False, False,  True])"
      ]
     },
     "execution_count": 261,
     "metadata": {},
     "output_type": "execute_result"
    }
   ],
   "source": [
    "Mood == \"300\""
   ]
  },
  {
   "cell_type": "code",
   "execution_count": 279,
   "id": "7aede4f0",
   "metadata": {},
   "outputs": [],
   "source": [
    "Mood[Mood == \"300\"] = \"Happy\""
   ]
  },
  {
   "cell_type": "code",
   "execution_count": 281,
   "id": "76f73d34",
   "metadata": {},
   "outputs": [
    {
     "data": {
      "text/plain": [
       "array(['200', '100', '100', '100', '200', '100', '100', '100', '100',\n",
       "       '100', '100', '100', 'Happy', '100', '100', '100', '100', '200',\n",
       "       '200', '200', '200', '200', '200', 'Happy', '200', 'Happy',\n",
       "       'Happy', 'Happy', 'Happy', 'Happy', 'Happy', 'Happy', '200',\n",
       "       'Happy', 'Happy', 'Happy', 'Happy', 'Happy', 'Happy', 'Happy',\n",
       "       'Happy', 'Happy', 'Happy', '200', 'Happy', 'Happy', 'Happy',\n",
       "       'Happy', 'Happy', 'Happy', 'Happy', 'Happy', 'Happy', '200', '100',\n",
       "       'Happy', 'Happy', 'Happy', 'Happy', 'Happy', 'Happy', 'Happy',\n",
       "       '100', '200', '200', '100', '100', '200', '200', 'Happy', '200',\n",
       "       '200', '100', '200', '100', '200', '200', '100', '100', '100',\n",
       "       '100', 'Happy', '200', 'Happy', '200', '100', '100', '100', '200',\n",
       "       '200', '100', '100', 'Happy', '200', '200', 'Happy'], dtype='<U10')"
      ]
     },
     "execution_count": 281,
     "metadata": {},
     "output_type": "execute_result"
    }
   ],
   "source": [
    "Mood"
   ]
  },
  {
   "cell_type": "code",
   "execution_count": 282,
   "id": "445cb59c",
   "metadata": {},
   "outputs": [],
   "source": [
    "Mood[Mood == \"200\"] = \"Neutral\""
   ]
  },
  {
   "cell_type": "code",
   "execution_count": 283,
   "id": "117bae25",
   "metadata": {},
   "outputs": [
    {
     "data": {
      "text/plain": [
       "array(['Neutral', '100', '100', '100', 'Neutral', '100', '100', '100',\n",
       "       '100', '100', '100', '100', 'Happy', '100', '100', '100', '100',\n",
       "       'Neutral', 'Neutral', 'Neutral', 'Neutral', 'Neutral', 'Neutral',\n",
       "       'Happy', 'Neutral', 'Happy', 'Happy', 'Happy', 'Happy', 'Happy',\n",
       "       'Happy', 'Happy', 'Neutral', 'Happy', 'Happy', 'Happy', 'Happy',\n",
       "       'Happy', 'Happy', 'Happy', 'Happy', 'Happy', 'Happy', 'Neutral',\n",
       "       'Happy', 'Happy', 'Happy', 'Happy', 'Happy', 'Happy', 'Happy',\n",
       "       'Happy', 'Happy', 'Neutral', '100', 'Happy', 'Happy', 'Happy',\n",
       "       'Happy', 'Happy', 'Happy', 'Happy', '100', 'Neutral', 'Neutral',\n",
       "       '100', '100', 'Neutral', 'Neutral', 'Happy', 'Neutral', 'Neutral',\n",
       "       '100', 'Neutral', '100', 'Neutral', 'Neutral', '100', '100', '100',\n",
       "       '100', 'Happy', 'Neutral', 'Happy', 'Neutral', '100', '100', '100',\n",
       "       'Neutral', 'Neutral', '100', '100', 'Happy', 'Neutral', 'Neutral',\n",
       "       'Happy'], dtype='<U10')"
      ]
     },
     "execution_count": 283,
     "metadata": {},
     "output_type": "execute_result"
    }
   ],
   "source": [
    "Mood"
   ]
  },
  {
   "cell_type": "code",
   "execution_count": 285,
   "id": "8efc6450",
   "metadata": {},
   "outputs": [],
   "source": [
    "Mood[Mood == \"100\"] = \"Sad\""
   ]
  },
  {
   "cell_type": "code",
   "execution_count": 286,
   "id": "89de31dc",
   "metadata": {},
   "outputs": [
    {
     "data": {
      "text/plain": [
       "array(['Neutral', 'Sad', 'Sad', 'Sad', 'Neutral', 'Sad', 'Sad', 'Sad',\n",
       "       'Sad', 'Sad', 'Sad', 'Sad', 'Happy', 'Sad', 'Sad', 'Sad', 'Sad',\n",
       "       'Neutral', 'Neutral', 'Neutral', 'Neutral', 'Neutral', 'Neutral',\n",
       "       'Happy', 'Neutral', 'Happy', 'Happy', 'Happy', 'Happy', 'Happy',\n",
       "       'Happy', 'Happy', 'Neutral', 'Happy', 'Happy', 'Happy', 'Happy',\n",
       "       'Happy', 'Happy', 'Happy', 'Happy', 'Happy', 'Happy', 'Neutral',\n",
       "       'Happy', 'Happy', 'Happy', 'Happy', 'Happy', 'Happy', 'Happy',\n",
       "       'Happy', 'Happy', 'Neutral', 'Sad', 'Happy', 'Happy', 'Happy',\n",
       "       'Happy', 'Happy', 'Happy', 'Happy', 'Sad', 'Neutral', 'Neutral',\n",
       "       'Sad', 'Sad', 'Neutral', 'Neutral', 'Happy', 'Neutral', 'Neutral',\n",
       "       'Sad', 'Neutral', 'Sad', 'Neutral', 'Neutral', 'Sad', 'Sad', 'Sad',\n",
       "       'Sad', 'Happy', 'Neutral', 'Happy', 'Neutral', 'Sad', 'Sad', 'Sad',\n",
       "       'Neutral', 'Neutral', 'Sad', 'Sad', 'Happy', 'Neutral', 'Neutral',\n",
       "       'Happy'], dtype='<U10')"
      ]
     },
     "execution_count": 286,
     "metadata": {},
     "output_type": "execute_result"
    }
   ],
   "source": [
    "Mood"
   ]
  },
  {
   "cell_type": "code",
   "execution_count": 291,
   "id": "d7febf11",
   "metadata": {},
   "outputs": [
    {
     "data": {
      "text/plain": [
       "array(['0', '500'], dtype='<U10')"
      ]
     },
     "execution_count": 291,
     "metadata": {},
     "output_type": "execute_result"
    }
   ],
   "source": [
    "np.unique(Activity_status)"
   ]
  },
  {
   "cell_type": "code",
   "execution_count": 294,
   "id": "67ed1b39",
   "metadata": {},
   "outputs": [],
   "source": [
    "Activity_status[Activity_status == \"500\"] = \"Active\"\n",
    "Activity_status[Activity_status == \"0\"] = \"Inactive\""
   ]
  },
  {
   "cell_type": "code",
   "execution_count": 295,
   "id": "92e936d4",
   "metadata": {},
   "outputs": [
    {
     "data": {
      "text/plain": [
       "array(['Inactive', 'Inactive', 'Inactive', 'Inactive', 'Active',\n",
       "       'Inactive', 'Inactive', 'Inactive', 'Inactive', 'Inactive',\n",
       "       'Inactive', 'Inactive', 'Active', 'Inactive', 'Inactive',\n",
       "       'Inactive', 'Inactive', 'Inactive', 'Inactive', 'Inactive',\n",
       "       'Inactive', 'Inactive', 'Inactive', 'Inactive', 'Inactive',\n",
       "       'Active', 'Inactive', 'Inactive', 'Inactive', 'Inactive', 'Active',\n",
       "       'Inactive', 'Inactive', 'Inactive', 'Inactive', 'Inactive',\n",
       "       'Active', 'Active', 'Active', 'Active', 'Active', 'Active',\n",
       "       'Active', 'Active', 'Active', 'Inactive', 'Inactive', 'Inactive',\n",
       "       'Inactive', 'Inactive', 'Inactive', 'Active', 'Active', 'Active',\n",
       "       'Active', 'Active', 'Active', 'Active', 'Active', 'Active',\n",
       "       'Active', 'Active', 'Active', 'Inactive', 'Active', 'Active',\n",
       "       'Inactive', 'Active', 'Active', 'Active', 'Active', 'Active',\n",
       "       'Inactive', 'Active', 'Active', 'Active', 'Active', 'Inactive',\n",
       "       'Inactive', 'Inactive', 'Inactive', 'Active', 'Active', 'Active',\n",
       "       'Active', 'Inactive', 'Inactive', 'Inactive', 'Inactive',\n",
       "       'Inactive', 'Inactive', 'Inactive', 'Inactive', 'Active',\n",
       "       'Inactive', 'Active'], dtype='<U10')"
      ]
     },
     "execution_count": 295,
     "metadata": {},
     "output_type": "execute_result"
    }
   ],
   "source": [
    "Activity_status"
   ]
  },
  {
   "cell_type": "markdown",
   "id": "6f2546f7",
   "metadata": {},
   "source": [
    "# Fitbit Data set\n",
    "# Data Analysis"
   ]
  },
  {
   "cell_type": "markdown",
   "id": "0cac3fbd",
   "metadata": {},
   "source": [
    "# Calculate the average step count of the user ?"
   ]
  },
  {
   "cell_type": "code",
   "execution_count": 299,
   "id": "6c6710e9",
   "metadata": {},
   "outputs": [
    {
     "data": {
      "text/plain": [
       "2935.9375"
      ]
     },
     "execution_count": 299,
     "metadata": {},
     "output_type": "execute_result"
    }
   ],
   "source": [
    "Step_Count.mean()"
   ]
  },
  {
   "cell_type": "markdown",
   "id": "1833f525",
   "metadata": {},
   "source": [
    "# On which date the \"step count\" was highest?"
   ]
  },
  {
   "cell_type": "markdown",
   "id": "94444779",
   "metadata": {},
   "source": [
    "# First extracting the data of date and step which were the first two columns."
   ]
  },
  {
   "cell_type": "code",
   "execution_count": 302,
   "id": "9f3984fa",
   "metadata": {},
   "outputs": [
    {
     "data": {
      "text/plain": [
       "array([['06-10-2017', '5464'],\n",
       "       ['07-10-2017', '6041'],\n",
       "       ['08-10-2017', '25'],\n",
       "       ['09-10-2017', '5461'],\n",
       "       ['10-10-2017', '6915'],\n",
       "       ['11-10-2017', '4545'],\n",
       "       ['12-10-2017', '4340'],\n",
       "       ['13-10-2017', '1230'],\n",
       "       ['14-10-2017', '61'],\n",
       "       ['15-10-2017', '1258'],\n",
       "       ['16-10-2017', '3148'],\n",
       "       ['17-10-2017', '4687'],\n",
       "       ['18-10-2017', '4732'],\n",
       "       ['19-10-2017', '3519'],\n",
       "       ['20-10-2017', '1580'],\n",
       "       ['21-10-2017', '2822'],\n",
       "       ['22-10-2017', '181'],\n",
       "       ['23-10-2017', '3158'],\n",
       "       ['24-10-2017', '4383'],\n",
       "       ['25-10-2017', '3881'],\n",
       "       ['26-10-2017', '4037'],\n",
       "       ['27-10-2017', '202'],\n",
       "       ['28-10-2017', '292'],\n",
       "       ['29-10-2017', '330'],\n",
       "       ['30-10-2017', '2209'],\n",
       "       ['31-10-2017', '4550'],\n",
       "       ['01-11-2017', '4435'],\n",
       "       ['02-11-2017', '4779'],\n",
       "       ['03-11-2017', '1831'],\n",
       "       ['04-11-2017', '2255'],\n",
       "       ['05-11-2017', '539'],\n",
       "       ['06-11-2017', '5464'],\n",
       "       ['07-11-2017', '6041'],\n",
       "       ['08-11-2017', '4068'],\n",
       "       ['09-11-2017', '4683'],\n",
       "       ['10-11-2017', '4033'],\n",
       "       ['11-11-2017', '6314'],\n",
       "       ['12-11-2017', '614'],\n",
       "       ['13-11-2017', '3149'],\n",
       "       ['14-11-2017', '4005'],\n",
       "       ['15-11-2017', '4880'],\n",
       "       ['16-11-2017', '4136'],\n",
       "       ['17-11-2017', '705'],\n",
       "       ['18-11-2017', '570'],\n",
       "       ['19-11-2017', '269'],\n",
       "       ['20-11-2017', '4275'],\n",
       "       ['21-11-2017', '5999'],\n",
       "       ['22-11-2017', '4421'],\n",
       "       ['23-11-2017', '6930'],\n",
       "       ['24-11-2017', '5195'],\n",
       "       ['25-11-2017', '546'],\n",
       "       ['26-11-2017', '493'],\n",
       "       ['27-11-2017', '995'],\n",
       "       ['28-11-2017', '1163'],\n",
       "       ['29-11-2017', '6676'],\n",
       "       ['30-11-2017', '3608'],\n",
       "       ['01-12-2017', '774'],\n",
       "       ['02-12-2017', '1421'],\n",
       "       ['03-12-2017', '4064'],\n",
       "       ['04-12-2017', '2725'],\n",
       "       ['05-12-2017', '5934'],\n",
       "       ['06-12-2017', '1867'],\n",
       "       ['07-12-2017', '3721'],\n",
       "       ['08-12-2017', '2374'],\n",
       "       ['09-12-2017', '2909'],\n",
       "       ['10-12-2017', '1648'],\n",
       "       ['11-12-2017', '799'],\n",
       "       ['12-12-2017', '7102'],\n",
       "       ['13-12-2017', '3941'],\n",
       "       ['14-12-2017', '7422'],\n",
       "       ['15-12-2017', '437'],\n",
       "       ['16-12-2017', '1231'],\n",
       "       ['17-12-2017', '1696'],\n",
       "       ['18-12-2017', '4921'],\n",
       "       ['19-12-2017', '221'],\n",
       "       ['20-12-2017', '6500'],\n",
       "       ['21-12-2017', '3575'],\n",
       "       ['22-12-2017', '4061'],\n",
       "       ['23-12-2017', '651'],\n",
       "       ['24-12-2017', '753'],\n",
       "       ['25-12-2017', '518'],\n",
       "       ['26-12-2017', '5537'],\n",
       "       ['27-12-2017', '4108'],\n",
       "       ['28-12-2017', '5376'],\n",
       "       ['29-12-2017', '3066'],\n",
       "       ['30-12-2017', '177'],\n",
       "       ['31-12-2017', '36'],\n",
       "       ['01-01-2018', '299'],\n",
       "       ['02-01-2018', '1447'],\n",
       "       ['03-01-2018', '2599'],\n",
       "       ['04-01-2018', '702'],\n",
       "       ['05-01-2018', '133'],\n",
       "       ['06-01-2018', '153'],\n",
       "       ['07-01-2018', '500'],\n",
       "       ['08-01-2018', '2127'],\n",
       "       ['09-01-2018', '2203']], dtype='<U10')"
      ]
     },
     "execution_count": 302,
     "metadata": {},
     "output_type": "execute_result"
    }
   ],
   "source": [
    "data[:,:2]"
   ]
  },
  {
   "cell_type": "code",
   "execution_count": 303,
   "id": "5469b13c",
   "metadata": {},
   "outputs": [
    {
     "data": {
      "text/plain": [
       "7422"
      ]
     },
     "execution_count": 303,
     "metadata": {},
     "output_type": "execute_result"
    }
   ],
   "source": [
    "np.max(Step_Count)"
   ]
  },
  {
   "cell_type": "code",
   "execution_count": 304,
   "id": "497e6305",
   "metadata": {},
   "outputs": [
    {
     "data": {
      "text/plain": [
       "array([  25,   36,   61,  133,  153,  177,  181,  202,  221,  269,  292,\n",
       "        299,  330,  437,  493,  500,  518,  539,  546,  570,  614,  651,\n",
       "        702,  705,  753,  774,  799,  995, 1163, 1230, 1231, 1258, 1421,\n",
       "       1447, 1580, 1648, 1696, 1831, 1867, 2127, 2203, 2209, 2255, 2374,\n",
       "       2599, 2725, 2822, 2909, 3066, 3148, 3149, 3158, 3519, 3575, 3608,\n",
       "       3721, 3881, 3941, 4005, 4033, 4037, 4061, 4064, 4068, 4108, 4136,\n",
       "       4275, 4340, 4383, 4421, 4435, 4545, 4550, 4683, 4687, 4732, 4779,\n",
       "       4880, 4921, 5195, 5376, 5461, 5464, 5464, 5537, 5934, 5999, 6041,\n",
       "       6041, 6314, 6500, 6676, 6915, 6930, 7102, 7422])"
      ]
     },
     "execution_count": 304,
     "metadata": {},
     "output_type": "execute_result"
    }
   ],
   "source": [
    "np.sort(Step_Count)"
   ]
  },
  {
   "cell_type": "code",
   "execution_count": 305,
   "id": "af9a9ff8",
   "metadata": {},
   "outputs": [
    {
     "data": {
      "text/plain": [
       "array([ 2, 86,  8, 91, 92, 85, 16, 21, 74, 44, 22, 87, 23, 70, 51, 93, 80,\n",
       "       30, 50, 43, 37, 78, 90, 42, 79, 56, 66, 52, 53,  7, 71,  9, 57, 88,\n",
       "       14, 65, 72, 28, 61, 94, 95, 24, 29, 63, 89, 59, 15, 64, 84, 10, 38,\n",
       "       17, 13, 76, 55, 62, 19, 68, 39, 35, 20, 77, 58, 33, 82, 41, 45,  6,\n",
       "       18, 47, 26,  5, 25, 34, 11, 12, 27, 40, 73, 49, 83,  3, 31,  0, 81,\n",
       "       60, 46,  1, 32, 36, 75, 54,  4, 48, 67, 69], dtype=int64)"
      ]
     },
     "execution_count": 305,
     "metadata": {},
     "output_type": "execute_result"
    }
   ],
   "source": [
    "np.argsort(Step_Count)"
   ]
  },
  {
   "cell_type": "code",
   "execution_count": 306,
   "id": "8f043e50",
   "metadata": {},
   "outputs": [
    {
     "data": {
      "text/plain": [
       "69"
      ]
     },
     "execution_count": 306,
     "metadata": {},
     "output_type": "execute_result"
    }
   ],
   "source": [
    "np.argsort(Step_Count)[-1]"
   ]
  },
  {
   "cell_type": "markdown",
   "id": "07d069a7",
   "metadata": {},
   "source": [
    "# In the above \"sort\" is used to get the sorted values and from that highest step count is visible. and then \"argsort\" is used to find the index of highest step count which is \"69\"."
   ]
  },
  {
   "cell_type": "markdown",
   "id": "d5394a6e",
   "metadata": {},
   "source": [
    "# Now to find the date "
   ]
  },
  {
   "cell_type": "code",
   "execution_count": 308,
   "id": "3942d459",
   "metadata": {},
   "outputs": [
    {
     "data": {
      "text/plain": [
       "'14-12-2017'"
      ]
     },
     "execution_count": 308,
     "metadata": {},
     "output_type": "execute_result"
    }
   ],
   "source": [
    "Date[np.argsort(Step_Count)[-1]]"
   ]
  },
  {
   "cell_type": "markdown",
   "id": "49624536",
   "metadata": {},
   "source": [
    "# Other method - Insted of all the above, \"argmax\" can be used to find the date at maximum step count."
   ]
  },
  {
   "cell_type": "code",
   "execution_count": 310,
   "id": "337eaf44",
   "metadata": {},
   "outputs": [
    {
     "data": {
      "text/plain": [
       "69"
      ]
     },
     "execution_count": 310,
     "metadata": {},
     "output_type": "execute_result"
    }
   ],
   "source": [
    "np.argmax(Step_Count)"
   ]
  },
  {
   "cell_type": "code",
   "execution_count": 311,
   "id": "bad65d8d",
   "metadata": {},
   "outputs": [
    {
     "data": {
      "text/plain": [
       "'14-12-2017'"
      ]
     },
     "execution_count": 311,
     "metadata": {},
     "output_type": "execute_result"
    }
   ],
   "source": [
    "Date[np.argmax(Step_Count)]"
   ]
  },
  {
   "cell_type": "markdown",
   "id": "7c155eaf",
   "metadata": {},
   "source": [
    "# Find the date at which the step count is minimum."
   ]
  },
  {
   "cell_type": "code",
   "execution_count": 363,
   "id": "e3320a81",
   "metadata": {},
   "outputs": [
    {
     "data": {
      "text/plain": [
       "2"
      ]
     },
     "execution_count": 363,
     "metadata": {},
     "output_type": "execute_result"
    }
   ],
   "source": [
    "np.argmin(Step_Count)"
   ]
  },
  {
   "cell_type": "code",
   "execution_count": 364,
   "id": "331bc9f7",
   "metadata": {},
   "outputs": [
    {
     "data": {
      "text/plain": [
       "'08-10-2017'"
      ]
     },
     "execution_count": 364,
     "metadata": {},
     "output_type": "execute_result"
    }
   ],
   "source": [
    "Date[np.argmin(Step_Count)]"
   ]
  },
  {
   "cell_type": "code",
   "execution_count": 315,
   "id": "f6683d62",
   "metadata": {},
   "outputs": [
    {
     "data": {
      "text/plain": [
       "array([['06-10-2017', '5464'],\n",
       "       ['07-10-2017', '6041'],\n",
       "       ['08-10-2017', '25'],\n",
       "       ['09-10-2017', '5461'],\n",
       "       ['10-10-2017', '6915'],\n",
       "       ['11-10-2017', '4545'],\n",
       "       ['12-10-2017', '4340'],\n",
       "       ['13-10-2017', '1230'],\n",
       "       ['14-10-2017', '61'],\n",
       "       ['15-10-2017', '1258'],\n",
       "       ['16-10-2017', '3148'],\n",
       "       ['17-10-2017', '4687'],\n",
       "       ['18-10-2017', '4732'],\n",
       "       ['19-10-2017', '3519'],\n",
       "       ['20-10-2017', '1580'],\n",
       "       ['21-10-2017', '2822'],\n",
       "       ['22-10-2017', '181'],\n",
       "       ['23-10-2017', '3158'],\n",
       "       ['24-10-2017', '4383'],\n",
       "       ['25-10-2017', '3881'],\n",
       "       ['26-10-2017', '4037'],\n",
       "       ['27-10-2017', '202'],\n",
       "       ['28-10-2017', '292'],\n",
       "       ['29-10-2017', '330'],\n",
       "       ['30-10-2017', '2209'],\n",
       "       ['31-10-2017', '4550'],\n",
       "       ['01-11-2017', '4435'],\n",
       "       ['02-11-2017', '4779'],\n",
       "       ['03-11-2017', '1831'],\n",
       "       ['04-11-2017', '2255'],\n",
       "       ['05-11-2017', '539'],\n",
       "       ['06-11-2017', '5464'],\n",
       "       ['07-11-2017', '6041'],\n",
       "       ['08-11-2017', '4068'],\n",
       "       ['09-11-2017', '4683'],\n",
       "       ['10-11-2017', '4033'],\n",
       "       ['11-11-2017', '6314'],\n",
       "       ['12-11-2017', '614'],\n",
       "       ['13-11-2017', '3149'],\n",
       "       ['14-11-2017', '4005'],\n",
       "       ['15-11-2017', '4880'],\n",
       "       ['16-11-2017', '4136'],\n",
       "       ['17-11-2017', '705'],\n",
       "       ['18-11-2017', '570'],\n",
       "       ['19-11-2017', '269'],\n",
       "       ['20-11-2017', '4275'],\n",
       "       ['21-11-2017', '5999'],\n",
       "       ['22-11-2017', '4421'],\n",
       "       ['23-11-2017', '6930'],\n",
       "       ['24-11-2017', '5195'],\n",
       "       ['25-11-2017', '546'],\n",
       "       ['26-11-2017', '493'],\n",
       "       ['27-11-2017', '995'],\n",
       "       ['28-11-2017', '1163'],\n",
       "       ['29-11-2017', '6676'],\n",
       "       ['30-11-2017', '3608'],\n",
       "       ['01-12-2017', '774'],\n",
       "       ['02-12-2017', '1421'],\n",
       "       ['03-12-2017', '4064'],\n",
       "       ['04-12-2017', '2725'],\n",
       "       ['05-12-2017', '5934'],\n",
       "       ['06-12-2017', '1867'],\n",
       "       ['07-12-2017', '3721'],\n",
       "       ['08-12-2017', '2374'],\n",
       "       ['09-12-2017', '2909'],\n",
       "       ['10-12-2017', '1648'],\n",
       "       ['11-12-2017', '799'],\n",
       "       ['12-12-2017', '7102'],\n",
       "       ['13-12-2017', '3941'],\n",
       "       ['14-12-2017', '7422'],\n",
       "       ['15-12-2017', '437'],\n",
       "       ['16-12-2017', '1231'],\n",
       "       ['17-12-2017', '1696'],\n",
       "       ['18-12-2017', '4921'],\n",
       "       ['19-12-2017', '221'],\n",
       "       ['20-12-2017', '6500'],\n",
       "       ['21-12-2017', '3575'],\n",
       "       ['22-12-2017', '4061'],\n",
       "       ['23-12-2017', '651'],\n",
       "       ['24-12-2017', '753'],\n",
       "       ['25-12-2017', '518'],\n",
       "       ['26-12-2017', '5537'],\n",
       "       ['27-12-2017', '4108'],\n",
       "       ['28-12-2017', '5376'],\n",
       "       ['29-12-2017', '3066'],\n",
       "       ['30-12-2017', '177'],\n",
       "       ['31-12-2017', '36'],\n",
       "       ['01-01-2018', '299'],\n",
       "       ['02-01-2018', '1447'],\n",
       "       ['03-01-2018', '2599'],\n",
       "       ['04-01-2018', '702'],\n",
       "       ['05-01-2018', '133'],\n",
       "       ['06-01-2018', '153'],\n",
       "       ['07-01-2018', '500'],\n",
       "       ['08-01-2018', '2127'],\n",
       "       ['09-01-2018', '2203']], dtype='<U10')"
      ]
     },
     "execution_count": 315,
     "metadata": {},
     "output_type": "execute_result"
    }
   ],
   "source": [
    "data[: , :2]"
   ]
  },
  {
   "cell_type": "markdown",
   "id": "d2e86a9c",
   "metadata": {},
   "source": [
    "# what is the most frequent mood?"
   ]
  },
  {
   "cell_type": "code",
   "execution_count": 318,
   "id": "8876fa83",
   "metadata": {},
   "outputs": [
    {
     "data": {
      "text/plain": [
       "40"
      ]
     },
     "execution_count": 318,
     "metadata": {},
     "output_type": "execute_result"
    }
   ],
   "source": [
    "np.sum(Mood == \"Happy\")"
   ]
  },
  {
   "cell_type": "code",
   "execution_count": 319,
   "id": "91a175ea",
   "metadata": {},
   "outputs": [
    {
     "data": {
      "text/plain": [
       "27"
      ]
     },
     "execution_count": 319,
     "metadata": {},
     "output_type": "execute_result"
    }
   ],
   "source": [
    "np.sum(Mood == \"Neutral\")"
   ]
  },
  {
   "cell_type": "code",
   "execution_count": 320,
   "id": "6bfe46fd",
   "metadata": {},
   "outputs": [
    {
     "data": {
      "text/plain": [
       "29"
      ]
     },
     "execution_count": 320,
     "metadata": {},
     "output_type": "execute_result"
    }
   ],
   "source": [
    "np.sum(Mood == \"Sad\")"
   ]
  },
  {
   "cell_type": "markdown",
   "id": "b8d0c8ce",
   "metadata": {},
   "source": [
    "# By performing the above operations it is clear that the most frequent mood is \"Happy\"."
   ]
  },
  {
   "cell_type": "code",
   "execution_count": 322,
   "id": "3d00632d",
   "metadata": {},
   "outputs": [
    {
     "data": {
      "text/plain": [
       "array(['Happy', 'Neutral', 'Sad'], dtype='<U10')"
      ]
     },
     "execution_count": 322,
     "metadata": {},
     "output_type": "execute_result"
    }
   ],
   "source": [
    "np.unique(Mood)"
   ]
  },
  {
   "cell_type": "code",
   "execution_count": 326,
   "id": "2c705abd",
   "metadata": {},
   "outputs": [
    {
     "data": {
      "text/plain": [
       "(array(['Happy', 'Neutral', 'Sad'], dtype='<U10'),\n",
       " array([40, 27, 29], dtype=int64))"
      ]
     },
     "execution_count": 326,
     "metadata": {},
     "output_type": "execute_result"
    }
   ],
   "source": [
    "np.unique(Mood, return_counts = True)"
   ]
  },
  {
   "cell_type": "markdown",
   "id": "770127ea",
   "metadata": {},
   "source": [
    "# Check if \"Activity\" or \"Step Count\" influences the Mood."
   ]
  },
  {
   "cell_type": "markdown",
   "id": "03cc2dca",
   "metadata": {},
   "source": [
    "# Calculate the average step count for different moods."
   ]
  },
  {
   "cell_type": "code",
   "execution_count": 328,
   "id": "a30418a2",
   "metadata": {},
   "outputs": [
    {
     "data": {
      "text/plain": [
       "3392.725"
      ]
     },
     "execution_count": 328,
     "metadata": {},
     "output_type": "execute_result"
    }
   ],
   "source": [
    "Step_Count[Mood == \"Happy\"].mean()"
   ]
  },
  {
   "cell_type": "code",
   "execution_count": 329,
   "id": "fdbae1df",
   "metadata": {},
   "outputs": [
    {
     "data": {
      "text/plain": [
       "3153.777777777778"
      ]
     },
     "execution_count": 329,
     "metadata": {},
     "output_type": "execute_result"
    }
   ],
   "source": [
    "Step_Count[Mood == \"Neutral\"].mean()"
   ]
  },
  {
   "cell_type": "code",
   "execution_count": 330,
   "id": "aff18301",
   "metadata": {},
   "outputs": [
    {
     "data": {
      "text/plain": [
       "2103.0689655172414"
      ]
     },
     "execution_count": 330,
     "metadata": {},
     "output_type": "execute_result"
    }
   ],
   "source": [
    "Step_Count[Mood == \"Sad\"].mean()"
   ]
  },
  {
   "cell_type": "markdown",
   "id": "8b8ec14e",
   "metadata": {},
   "source": [
    "# How is \"Mood\" affecting the \"Sleep\"?"
   ]
  },
  {
   "cell_type": "code",
   "execution_count": 331,
   "id": "80116ba3",
   "metadata": {},
   "outputs": [
    {
     "data": {
      "text/plain": [
       "5.725"
      ]
     },
     "execution_count": 331,
     "metadata": {},
     "output_type": "execute_result"
    }
   ],
   "source": [
    "Hours_Sleep[Mood == \"Happy\"].mean()"
   ]
  },
  {
   "cell_type": "code",
   "execution_count": 332,
   "id": "c4c4a9b7",
   "metadata": {},
   "outputs": [
    {
     "data": {
      "text/plain": [
       "4.666666666666667"
      ]
     },
     "execution_count": 332,
     "metadata": {},
     "output_type": "execute_result"
    }
   ],
   "source": [
    "Hours_Sleep[Mood == \"Neutral\"].mean()"
   ]
  },
  {
   "cell_type": "code",
   "execution_count": 334,
   "id": "b9da7b5a",
   "metadata": {},
   "outputs": [
    {
     "data": {
      "text/plain": [
       "5.0344827586206895"
      ]
     },
     "execution_count": 334,
     "metadata": {},
     "output_type": "execute_result"
    }
   ],
   "source": [
    "Hours_Sleep[Mood == \"Sad\"].mean()"
   ]
  },
  {
   "cell_type": "markdown",
   "id": "b43ea8cb",
   "metadata": {},
   "source": [
    "# Vectorization."
   ]
  },
  {
   "cell_type": "code",
   "execution_count": 335,
   "id": "25b6a234",
   "metadata": {},
   "outputs": [],
   "source": [
    "# Vectorisation is nothing but to be able to work with vectors."
   ]
  },
  {
   "cell_type": "code",
   "execution_count": 336,
   "id": "dc7aaa96",
   "metadata": {},
   "outputs": [
    {
     "data": {
      "text/plain": [
       "array([4, 6, 8])"
      ]
     },
     "execution_count": 336,
     "metadata": {},
     "output_type": "execute_result"
    }
   ],
   "source": [
    "A = np.array([1,2,3])\n",
    "B = np.array([3,4,5])\n",
    "A+B"
   ]
  },
  {
   "cell_type": "markdown",
   "id": "fc21aaae",
   "metadata": {},
   "source": [
    "# In the above Sum is the vectorised addition."
   ]
  },
  {
   "cell_type": "markdown",
   "id": "a3ba119b",
   "metadata": {},
   "source": [
    "# ***Note - Numpy is a vectorised Library "
   ]
  },
  {
   "cell_type": "code",
   "execution_count": 338,
   "id": "53c19dca",
   "metadata": {},
   "outputs": [],
   "source": [
    "from math import log"
   ]
  },
  {
   "cell_type": "code",
   "execution_count": 339,
   "id": "8f558aa8",
   "metadata": {},
   "outputs": [
    {
     "data": {
      "text/plain": [
       "0.6931471805599453"
      ]
     },
     "execution_count": 339,
     "metadata": {},
     "output_type": "execute_result"
    }
   ],
   "source": [
    "log(2)"
   ]
  },
  {
   "cell_type": "code",
   "execution_count": 341,
   "id": "b749810d",
   "metadata": {},
   "outputs": [
    {
     "data": {
      "text/plain": [
       "array([0.        , 0.69314718, 1.09861229, 1.38629436, 1.60943791,\n",
       "       1.79175947])"
      ]
     },
     "execution_count": 341,
     "metadata": {},
     "output_type": "execute_result"
    }
   ],
   "source": [
    "np.log([1,2,3,4,5,6])"
   ]
  },
  {
   "cell_type": "markdown",
   "id": "e7e79d3f",
   "metadata": {},
   "source": [
    "# Let us take a function which Numpy Library does not have."
   ]
  },
  {
   "cell_type": "code",
   "execution_count": 344,
   "id": "e2478272",
   "metadata": {},
   "outputs": [],
   "source": [
    "from math import exp"
   ]
  },
  {
   "cell_type": "markdown",
   "id": "bdaa7566",
   "metadata": {},
   "source": [
    "# Sigmoid "
   ]
  },
  {
   "cell_type": "code",
   "execution_count": 346,
   "id": "598d39f3",
   "metadata": {},
   "outputs": [],
   "source": [
    "def sigmoid(x):\n",
    "    return 1/(1+exp(-x))"
   ]
  },
  {
   "cell_type": "code",
   "execution_count": 347,
   "id": "5b967398",
   "metadata": {},
   "outputs": [
    {
     "data": {
      "text/plain": [
       "0.5"
      ]
     },
     "execution_count": 347,
     "metadata": {},
     "output_type": "execute_result"
    }
   ],
   "source": [
    "sigmoid(0)"
   ]
  },
  {
   "cell_type": "code",
   "execution_count": 348,
   "id": "970bcadf",
   "metadata": {},
   "outputs": [],
   "source": [
    "# Using Numpy Library for sigmoid function."
   ]
  },
  {
   "cell_type": "code",
   "execution_count": 356,
   "id": "f27635c1",
   "metadata": {},
   "outputs": [
    {
     "data": {
      "text/plain": [
       "array([0.5       , 0.73105858, 0.88079708, 0.95257413, 0.98201379,\n",
       "       0.99330715])"
      ]
     },
     "execution_count": 356,
     "metadata": {},
     "output_type": "execute_result"
    }
   ],
   "source": [
    "vectorize_sigmoid = np.vectorize(sigmoid)\n",
    "vectorize_sigmoid([0,1,2,3,4,5])"
   ]
  },
  {
   "cell_type": "markdown",
   "id": "c8d2a468",
   "metadata": {},
   "source": [
    "# Where vectorization is useful "
   ]
  },
  {
   "cell_type": "code",
   "execution_count": 380,
   "id": "0ce2c1f5",
   "metadata": {},
   "outputs": [],
   "source": [
    "x = np.arange(-10,10,0.1)"
   ]
  },
  {
   "cell_type": "code",
   "execution_count": 381,
   "id": "3a84c003",
   "metadata": {},
   "outputs": [
    {
     "data": {
      "text/plain": [
       "array([-1.00000000e+01, -9.90000000e+00, -9.80000000e+00, -9.70000000e+00,\n",
       "       -9.60000000e+00, -9.50000000e+00, -9.40000000e+00, -9.30000000e+00,\n",
       "       -9.20000000e+00, -9.10000000e+00, -9.00000000e+00, -8.90000000e+00,\n",
       "       -8.80000000e+00, -8.70000000e+00, -8.60000000e+00, -8.50000000e+00,\n",
       "       -8.40000000e+00, -8.30000000e+00, -8.20000000e+00, -8.10000000e+00,\n",
       "       -8.00000000e+00, -7.90000000e+00, -7.80000000e+00, -7.70000000e+00,\n",
       "       -7.60000000e+00, -7.50000000e+00, -7.40000000e+00, -7.30000000e+00,\n",
       "       -7.20000000e+00, -7.10000000e+00, -7.00000000e+00, -6.90000000e+00,\n",
       "       -6.80000000e+00, -6.70000000e+00, -6.60000000e+00, -6.50000000e+00,\n",
       "       -6.40000000e+00, -6.30000000e+00, -6.20000000e+00, -6.10000000e+00,\n",
       "       -6.00000000e+00, -5.90000000e+00, -5.80000000e+00, -5.70000000e+00,\n",
       "       -5.60000000e+00, -5.50000000e+00, -5.40000000e+00, -5.30000000e+00,\n",
       "       -5.20000000e+00, -5.10000000e+00, -5.00000000e+00, -4.90000000e+00,\n",
       "       -4.80000000e+00, -4.70000000e+00, -4.60000000e+00, -4.50000000e+00,\n",
       "       -4.40000000e+00, -4.30000000e+00, -4.20000000e+00, -4.10000000e+00,\n",
       "       -4.00000000e+00, -3.90000000e+00, -3.80000000e+00, -3.70000000e+00,\n",
       "       -3.60000000e+00, -3.50000000e+00, -3.40000000e+00, -3.30000000e+00,\n",
       "       -3.20000000e+00, -3.10000000e+00, -3.00000000e+00, -2.90000000e+00,\n",
       "       -2.80000000e+00, -2.70000000e+00, -2.60000000e+00, -2.50000000e+00,\n",
       "       -2.40000000e+00, -2.30000000e+00, -2.20000000e+00, -2.10000000e+00,\n",
       "       -2.00000000e+00, -1.90000000e+00, -1.80000000e+00, -1.70000000e+00,\n",
       "       -1.60000000e+00, -1.50000000e+00, -1.40000000e+00, -1.30000000e+00,\n",
       "       -1.20000000e+00, -1.10000000e+00, -1.00000000e+00, -9.00000000e-01,\n",
       "       -8.00000000e-01, -7.00000000e-01, -6.00000000e-01, -5.00000000e-01,\n",
       "       -4.00000000e-01, -3.00000000e-01, -2.00000000e-01, -1.00000000e-01,\n",
       "       -3.55271368e-14,  1.00000000e-01,  2.00000000e-01,  3.00000000e-01,\n",
       "        4.00000000e-01,  5.00000000e-01,  6.00000000e-01,  7.00000000e-01,\n",
       "        8.00000000e-01,  9.00000000e-01,  1.00000000e+00,  1.10000000e+00,\n",
       "        1.20000000e+00,  1.30000000e+00,  1.40000000e+00,  1.50000000e+00,\n",
       "        1.60000000e+00,  1.70000000e+00,  1.80000000e+00,  1.90000000e+00,\n",
       "        2.00000000e+00,  2.10000000e+00,  2.20000000e+00,  2.30000000e+00,\n",
       "        2.40000000e+00,  2.50000000e+00,  2.60000000e+00,  2.70000000e+00,\n",
       "        2.80000000e+00,  2.90000000e+00,  3.00000000e+00,  3.10000000e+00,\n",
       "        3.20000000e+00,  3.30000000e+00,  3.40000000e+00,  3.50000000e+00,\n",
       "        3.60000000e+00,  3.70000000e+00,  3.80000000e+00,  3.90000000e+00,\n",
       "        4.00000000e+00,  4.10000000e+00,  4.20000000e+00,  4.30000000e+00,\n",
       "        4.40000000e+00,  4.50000000e+00,  4.60000000e+00,  4.70000000e+00,\n",
       "        4.80000000e+00,  4.90000000e+00,  5.00000000e+00,  5.10000000e+00,\n",
       "        5.20000000e+00,  5.30000000e+00,  5.40000000e+00,  5.50000000e+00,\n",
       "        5.60000000e+00,  5.70000000e+00,  5.80000000e+00,  5.90000000e+00,\n",
       "        6.00000000e+00,  6.10000000e+00,  6.20000000e+00,  6.30000000e+00,\n",
       "        6.40000000e+00,  6.50000000e+00,  6.60000000e+00,  6.70000000e+00,\n",
       "        6.80000000e+00,  6.90000000e+00,  7.00000000e+00,  7.10000000e+00,\n",
       "        7.20000000e+00,  7.30000000e+00,  7.40000000e+00,  7.50000000e+00,\n",
       "        7.60000000e+00,  7.70000000e+00,  7.80000000e+00,  7.90000000e+00,\n",
       "        8.00000000e+00,  8.10000000e+00,  8.20000000e+00,  8.30000000e+00,\n",
       "        8.40000000e+00,  8.50000000e+00,  8.60000000e+00,  8.70000000e+00,\n",
       "        8.80000000e+00,  8.90000000e+00,  9.00000000e+00,  9.10000000e+00,\n",
       "        9.20000000e+00,  9.30000000e+00,  9.40000000e+00,  9.50000000e+00,\n",
       "        9.60000000e+00,  9.70000000e+00,  9.80000000e+00,  9.90000000e+00])"
      ]
     },
     "execution_count": 381,
     "metadata": {},
     "output_type": "execute_result"
    }
   ],
   "source": [
    "x"
   ]
  },
  {
   "cell_type": "code",
   "execution_count": 398,
   "id": "6e0bd6f9",
   "metadata": {},
   "outputs": [],
   "source": [
    "#y = vectorize_sigmoid(x)"
   ]
  },
  {
   "cell_type": "code",
   "execution_count": 383,
   "id": "7b946964",
   "metadata": {},
   "outputs": [],
   "source": [
    "import matplotlib.pyplot as plt"
   ]
  },
  {
   "cell_type": "code",
   "execution_count": 397,
   "id": "3897786e",
   "metadata": {},
   "outputs": [],
   "source": [
    "#plt.plot(x,y)"
   ]
  },
  {
   "cell_type": "markdown",
   "id": "643ac361",
   "metadata": {},
   "source": [
    "# Step_Count"
   ]
  },
  {
   "cell_type": "code",
   "execution_count": 385,
   "id": "4e3b37c2",
   "metadata": {},
   "outputs": [
    {
     "data": {
      "text/plain": [
       "array([5464, 6041,   25, 5461, 6915, 4545, 4340, 1230,   61, 1258, 3148,\n",
       "       4687, 4732, 3519, 1580, 2822,  181, 3158, 4383, 3881, 4037,  202,\n",
       "        292,  330, 2209, 4550, 4435, 4779, 1831, 2255,  539, 5464, 6041,\n",
       "       4068, 4683, 4033, 6314,  614, 3149, 4005, 4880, 4136,  705,  570,\n",
       "        269, 4275, 5999, 4421, 6930, 5195,  546,  493,  995, 1163, 6676,\n",
       "       3608,  774, 1421, 4064, 2725, 5934, 1867, 3721, 2374, 2909, 1648,\n",
       "        799, 7102, 3941, 7422,  437, 1231, 1696, 4921,  221, 6500, 3575,\n",
       "       4061,  651,  753,  518, 5537, 4108, 5376, 3066,  177,   36,  299,\n",
       "       1447, 2599,  702,  133,  153,  500, 2127, 2203])"
      ]
     },
     "execution_count": 385,
     "metadata": {},
     "output_type": "execute_result"
    }
   ],
   "source": [
    "Step_Count"
   ]
  },
  {
   "cell_type": "code",
   "execution_count": 386,
   "id": "f92ce310",
   "metadata": {},
   "outputs": [
    {
     "data": {
      "text/plain": [
       "[<matplotlib.lines.Line2D at 0x1cfde79b880>]"
      ]
     },
     "execution_count": 386,
     "metadata": {},
     "output_type": "execute_result"
    },
    {
     "data": {
      "image/png": "[encoded data removed]",
      "text/plain": [
       "<Figure size 432x288 with 1 Axes>"
      ]
     },
     "metadata": {
      "needs_background": "light"
     },
     "output_type": "display_data"
    }
   ],
   "source": [
    "plt.plot(Step_Count)"
   ]
  },
  {
   "cell_type": "markdown",
   "id": "e41317c7",
   "metadata": {},
   "source": [
    "# Mood"
   ]
  },
  {
   "cell_type": "code",
   "execution_count": 387,
   "id": "b93956b2",
   "metadata": {},
   "outputs": [
    {
     "data": {
      "text/plain": [
       "array(['Neutral', 'Sad', 'Sad', 'Sad', 'Neutral', 'Sad', 'Sad', 'Sad',\n",
       "       'Sad', 'Sad', 'Sad', 'Sad', 'Happy', 'Sad', 'Sad', 'Sad', 'Sad',\n",
       "       'Neutral', 'Neutral', 'Neutral', 'Neutral', 'Neutral', 'Neutral',\n",
       "       'Happy', 'Neutral', 'Happy', 'Happy', 'Happy', 'Happy', 'Happy',\n",
       "       'Happy', 'Happy', 'Neutral', 'Happy', 'Happy', 'Happy', 'Happy',\n",
       "       'Happy', 'Happy', 'Happy', 'Happy', 'Happy', 'Happy', 'Neutral',\n",
       "       'Happy', 'Happy', 'Happy', 'Happy', 'Happy', 'Happy', 'Happy',\n",
       "       'Happy', 'Happy', 'Neutral', 'Sad', 'Happy', 'Happy', 'Happy',\n",
       "       'Happy', 'Happy', 'Happy', 'Happy', 'Sad', 'Neutral', 'Neutral',\n",
       "       'Sad', 'Sad', 'Neutral', 'Neutral', 'Happy', 'Neutral', 'Neutral',\n",
       "       'Sad', 'Neutral', 'Sad', 'Neutral', 'Neutral', 'Sad', 'Sad', 'Sad',\n",
       "       'Sad', 'Happy', 'Neutral', 'Happy', 'Neutral', 'Sad', 'Sad', 'Sad',\n",
       "       'Neutral', 'Neutral', 'Sad', 'Sad', 'Happy', 'Neutral', 'Neutral',\n",
       "       'Happy'], dtype='<U10')"
      ]
     },
     "execution_count": 387,
     "metadata": {},
     "output_type": "execute_result"
    }
   ],
   "source": [
    "Mood"
   ]
  },
  {
   "cell_type": "code",
   "execution_count": 388,
   "id": "d8ac8de2",
   "metadata": {},
   "outputs": [
    {
     "data": {
      "text/plain": [
       "[<matplotlib.lines.Line2D at 0x1cfde80b160>]"
      ]
     },
     "execution_count": 388,
     "metadata": {},
     "output_type": "execute_result"
    },
    {
     "data": {
      "image/png": "[encoded data removed]",
      "text/plain": [
       "<Figure size 432x288 with 1 Axes>"
      ]
     },
     "metadata": {
      "needs_background": "light"
     },
     "output_type": "display_data"
    }
   ],
   "source": [
    "plt.plot(Mood)"
   ]
  },
  {
   "cell_type": "markdown",
   "id": "29faf665",
   "metadata": {},
   "source": [
    "# Hours of sleep"
   ]
  },
  {
   "cell_type": "code",
   "execution_count": 389,
   "id": "1d992149",
   "metadata": {},
   "outputs": [
    {
     "data": {
      "text/plain": [
       "array([5, 8, 5, 4, 5, 6, 6, 7, 5, 6, 8, 5, 6, 7, 5, 6, 8, 5, 4, 5, 6, 8,\n",
       "       5, 6, 5, 8, 5, 4, 5, 4, 5, 4, 3, 2, 9, 5, 6, 4, 5, 8, 4, 5, 6, 5,\n",
       "       6, 5, 6, 5, 6, 5, 6, 7, 6, 7, 6, 5, 6, 7, 8, 8, 7, 8, 5, 4, 3, 3,\n",
       "       4, 5, 5, 5, 3, 4, 4, 5, 5, 5, 5, 5, 5, 4, 3, 4, 5, 5, 4, 5, 3, 3,\n",
       "       3, 2, 3, 2, 8, 5, 5, 5])"
      ]
     },
     "execution_count": 389,
     "metadata": {},
     "output_type": "execute_result"
    }
   ],
   "source": [
    "Hours_Sleep"
   ]
  },
  {
   "cell_type": "code",
   "execution_count": 390,
   "id": "60386a21",
   "metadata": {},
   "outputs": [
    {
     "data": {
      "text/plain": [
       "[<matplotlib.lines.Line2D at 0x1cfde85e550>]"
      ]
     },
     "execution_count": 390,
     "metadata": {},
     "output_type": "execute_result"
    },
    {
     "data": {
      "image/png": "[encoded data removed]",
      "text/plain": [
       "<Figure size 432x288 with 1 Axes>"
      ]
     },
     "metadata": {
      "needs_background": "light"
     },
     "output_type": "display_data"
    }
   ],
   "source": [
    "plt.plot(Hours_Sleep)"
   ]
  },
  {
   "cell_type": "markdown",
   "id": "f6657dcb",
   "metadata": {},
   "source": [
    "# Activity Status"
   ]
  },
  {
   "cell_type": "code",
   "execution_count": 391,
   "id": "dfd6d4d5",
   "metadata": {},
   "outputs": [
    {
     "data": {
      "text/plain": [
       "array(['Inactive', 'Inactive', 'Inactive', 'Inactive', 'Active',\n",
       "       'Inactive', 'Inactive', 'Inactive', 'Inactive', 'Inactive',\n",
       "       'Inactive', 'Inactive', 'Active', 'Inactive', 'Inactive',\n",
       "       'Inactive', 'Inactive', 'Inactive', 'Inactive', 'Inactive',\n",
       "       'Inactive', 'Inactive', 'Inactive', 'Inactive', 'Inactive',\n",
       "       'Active', 'Inactive', 'Inactive', 'Inactive', 'Inactive', 'Active',\n",
       "       'Inactive', 'Inactive', 'Inactive', 'Inactive', 'Inactive',\n",
       "       'Active', 'Active', 'Active', 'Active', 'Active', 'Active',\n",
       "       'Active', 'Active', 'Active', 'Inactive', 'Inactive', 'Inactive',\n",
       "       'Inactive', 'Inactive', 'Inactive', 'Active', 'Active', 'Active',\n",
       "       'Active', 'Active', 'Active', 'Active', 'Active', 'Active',\n",
       "       'Active', 'Active', 'Active', 'Inactive', 'Active', 'Active',\n",
       "       'Inactive', 'Active', 'Active', 'Active', 'Active', 'Active',\n",
       "       'Inactive', 'Active', 'Active', 'Active', 'Active', 'Inactive',\n",
       "       'Inactive', 'Inactive', 'Inactive', 'Active', 'Active', 'Active',\n",
       "       'Active', 'Inactive', 'Inactive', 'Inactive', 'Inactive',\n",
       "       'Inactive', 'Inactive', 'Inactive', 'Inactive', 'Active',\n",
       "       'Inactive', 'Active'], dtype='<U10')"
      ]
     },
     "execution_count": 391,
     "metadata": {},
     "output_type": "execute_result"
    }
   ],
   "source": [
    "Activity_status"
   ]
  },
  {
   "cell_type": "code",
   "execution_count": 392,
   "id": "f7d3e040",
   "metadata": {},
   "outputs": [
    {
     "data": {
      "text/plain": [
       "[<matplotlib.lines.Line2D at 0x1cfde8ca160>]"
      ]
     },
     "execution_count": 392,
     "metadata": {},
     "output_type": "execute_result"
    },
    {
     "data": {
      "image/png": "[encoded data removed]",
      "text/plain": [
       "<Figure size 432x288 with 1 Axes>"
      ]
     },
     "metadata": {
      "needs_background": "light"
     },
     "output_type": "display_data"
    }
   ],
   "source": [
    "plt.plot(Activity_status)"
   ]
  },
  {
   "cell_type": "code",
   "execution_count": 393,
   "id": "057711de",
   "metadata": {},
   "outputs": [
    {
     "data": {
      "text/plain": [
       "array([181, 197,   0, 174, 223, 149, 140,  38,   1,  40, 101, 152, 150,\n",
       "       113,  49,  86,   6,  99, 143, 125, 129,   6,   9,  10,  72, 150,\n",
       "       141, 156,  57,  72,  17, 181, 197, 131, 154, 137, 193,  19, 101,\n",
       "       139, 164, 137,  22,  17,   9, 145, 192, 146, 234, 167,  16,  17,\n",
       "        32,  35, 220, 116,  23,  44, 131,  86, 194,  60, 121,  76,  93,\n",
       "        53,  25, 227, 125, 243,  14,  39,  55, 158,   7, 213, 116, 129,\n",
       "        21,  28,  16, 180, 138, 176,  99,   5,   1,  10,  47,  84,  23,\n",
       "         4,   0,   0,   0,   0])"
      ]
     },
     "execution_count": 393,
     "metadata": {},
     "output_type": "execute_result"
    }
   ],
   "source": [
    "Calories_burned"
   ]
  },
  {
   "cell_type": "code",
   "execution_count": 394,
   "id": "0ee0c532",
   "metadata": {},
   "outputs": [
    {
     "data": {
      "text/plain": [
       "[<matplotlib.lines.Line2D at 0x1cfde910a30>]"
      ]
     },
     "execution_count": 394,
     "metadata": {},
     "output_type": "execute_result"
    },
    {
     "data": {
      "image/png": "[encoded data removed]",
      "text/plain": [
       "<Figure size 432x288 with 1 Axes>"
      ]
     },
     "metadata": {
      "needs_background": "light"
     },
     "output_type": "display_data"
    }
   ],
   "source": [
    "plt.plot(Calories_burned)"
   ]
  },
  {
   "cell_type": "code",
   "execution_count": 395,
   "id": "c3e7e8db",
   "metadata": {},
   "outputs": [
    {
     "data": {
      "text/plain": [
       "array([66, 66, 66, 66, 66, 66, 66, 66, 66, 65, 65, 65, 65, 65, 65, 65, 65,\n",
       "       65, 64, 64, 64, 64, 64, 64, 64, 64, 64, 64, 64, 64, 64, 64, 64, 64,\n",
       "       64, 64, 64, 64, 64, 64, 64, 64, 64, 64, 64, 64, 64, 64, 64, 64, 64,\n",
       "       64, 64, 64, 64, 64, 64, 64, 64, 64, 64, 64, 64, 64, 64, 64, 64, 64,\n",
       "       64, 64, 64, 64, 64, 64, 64, 64, 64, 64, 64, 64, 64, 64, 64, 64, 64,\n",
       "       64, 64, 64, 64, 64, 64, 64, 64, 64, 64, 64])"
      ]
     },
     "execution_count": 395,
     "metadata": {},
     "output_type": "execute_result"
    }
   ],
   "source": [
    "Weight"
   ]
  },
  {
   "cell_type": "code",
   "execution_count": 396,
   "id": "9491871a",
   "metadata": {},
   "outputs": [
    {
     "data": {
      "text/plain": [
       "[<matplotlib.lines.Line2D at 0x1cfde974820>]"
      ]
     },
     "execution_count": 396,
     "metadata": {},
     "output_type": "execute_result"
    },
    {
     "data": {
      "image/png": "[encoded data removed]",
      "text/plain": [
       "<Figure size 432x288 with 1 Axes>"
      ]
     },
     "metadata": {
      "needs_background": "light"
     },
     "output_type": "display_data"
    }
   ],
   "source": [
    "plt.plot(Weight)"
   ]
  },
  {
   "cell_type": "markdown",
   "id": "98209781",
   "metadata": {},
   "source": [
    "# Histogram for Weight "
   ]
  },
  {
   "cell_type": "code",
   "execution_count": 404,
   "id": "576cca72",
   "metadata": {},
   "outputs": [
    {
     "data": {
      "image/png": "[encoded data removed]",
      "text/plain": [
       "<Figure size 432x288 with 1 Axes>"
      ]
     },
     "metadata": {
      "needs_background": "light"
     },
     "output_type": "display_data"
    }
   ],
   "source": [
    "plt.hist(Weight, bins='auto')  # arguments are passed to np.histogram\n",
    "plt.title(\"Weight\")\n",
    "plt.show()"
   ]
  },
  {
   "cell_type": "markdown",
   "id": "e1a89836",
   "metadata": {},
   "source": [
    "# Histogram for Calories burned"
   ]
  },
  {
   "cell_type": "code",
   "execution_count": 408,
   "id": "16e522a0",
   "metadata": {},
   "outputs": [
    {
     "data": {
      "image/png": "[encoded data removed]",
      "text/plain": [
       "<Figure size 432x288 with 1 Axes>"
      ]
     },
     "metadata": {
      "needs_background": "light"
     },
     "output_type": "display_data"
    }
   ],
   "source": [
    "plt.hist(Calories_burned, bins='auto') \n",
    "plt.title(\"Calories\")\n",
    "plt.show()"
   ]
  },
  {
   "cell_type": "markdown",
   "id": "8311d4a6",
   "metadata": {},
   "source": [
    "# Histogram for Activity status"
   ]
  },
  {
   "cell_type": "code",
   "execution_count": 415,
   "id": "af27bca6",
   "metadata": {},
   "outputs": [
    {
     "data": {
      "image/png": "[encoded data removed]",
      "text/plain": [
       "<Figure size 432x288 with 1 Axes>"
      ]
     },
     "metadata": {
      "needs_background": "light"
     },
     "output_type": "display_data"
    }
   ],
   "source": [
    "plt.hist(Activity_status, bins='auto') \n",
    "plt.title(\"Activity\")\n",
    "plt.show()"
   ]
  },
  {
   "cell_type": "markdown",
   "id": "8692c712",
   "metadata": {},
   "source": [
    "# Histogram for sleep"
   ]
  },
  {
   "cell_type": "code",
   "execution_count": 417,
   "id": "03a9d8cc",
   "metadata": {},
   "outputs": [
    {
     "data": {
      "image/png": "[encoded data removed]",
      "text/plain": [
       "<Figure size 432x288 with 1 Axes>"
      ]
     },
     "metadata": {
      "needs_background": "light"
     },
     "output_type": "display_data"
    }
   ],
   "source": [
    "plt.hist(Hours_Sleep, bins='auto') \n",
    "plt.title(\"Sleep\")\n",
    "plt.show()"
   ]
  },
  {
   "cell_type": "markdown",
   "id": "00f527ba",
   "metadata": {},
   "source": [
    "# Histogram for Mood"
   ]
  },
  {
   "cell_type": "code",
   "execution_count": 419,
   "id": "402e99e3",
   "metadata": {},
   "outputs": [
    {
     "data": {
      "image/png": "[encoded data removed]",
      "text/plain": [
       "<Figure size 432x288 with 1 Axes>"
      ]
     },
     "metadata": {
      "needs_background": "light"
     },
     "output_type": "display_data"
    }
   ],
   "source": [
    "plt.hist(Mood, bins='auto') \n",
    "plt.title(\"Mood\")\n",
    "plt.show()"
   ]
  },
  {
   "cell_type": "markdown",
   "id": "1b2c4d73",
   "metadata": {},
   "source": [
    "# Histogram for Step count "
   ]
  },
  {
   "cell_type": "code",
   "execution_count": 421,
   "id": "49ee9766",
   "metadata": {},
   "outputs": [
    {
     "data": {
      "text/plain": [
       "<function matplotlib.pyplot.show(close=None, block=None)>"
      ]
     },
     "execution_count": 421,
     "metadata": {},
     "output_type": "execute_result"
    },
    {
     "data": {
      "image/png": "[encoded data removed]",
      "text/plain": [
       "<Figure size 432x288 with 1 Axes>"
      ]
     },
     "metadata": {
      "needs_background": "light"
     },
     "output_type": "display_data"
    }
   ],
   "source": [
    "plt.hist(Step_Count , bins = \"auto\")\n",
    "plt.title(\"Step Count\")\n",
    "plt.show"
   ]
  },
  {
   "cell_type": "code",
   "execution_count": 425,
   "id": "97634a6b",
   "metadata": {},
   "outputs": [
    {
     "data": {
      "text/plain": [
       "array([  25,   36,   61,  133,  153,  177,  181,  202,  221,  269,  292,\n",
       "        299,  330,  437,  493,  500,  518,  539,  546,  570,  614,  651,\n",
       "        702,  705,  753,  774,  799,  995, 1163, 1230, 1231, 1258, 1421,\n",
       "       1447, 1580, 1648, 1696, 1831, 1867, 2127, 2203, 2209, 2255, 2374,\n",
       "       2599, 2725, 2822, 2909, 3066, 3148, 3149, 3158, 3519, 3575, 3608,\n",
       "       3721, 3881, 3941, 4005, 4033, 4037, 4061, 4064, 4068, 4108, 4136,\n",
       "       4275, 4340, 4383, 4421, 4435, 4545, 4550, 4683, 4687, 4732, 4779,\n",
       "       4880, 4921, 5195, 5376, 5461, 5464, 5537, 5934, 5999, 6041, 6314,\n",
       "       6500, 6676, 6915, 6930, 7102, 7422])"
      ]
     },
     "execution_count": 425,
     "metadata": {},
     "output_type": "execute_result"
    }
   ],
   "source": [
    "np.unique([Step_Count])"
   ]
  }
 ],
 "metadata": {
  "kernelspec": {
   "display_name": "Python 3 (ipykernel)",
   "language": "python",
   "name": "python3"
  },
  "language_info": {
   "codemirror_mode": {
    "name": "ipython",
    "version": 3
   },
   "file_extension": ".py",
   "mimetype": "text/x-python",
   "name": "python",
   "nbconvert_exporter": "python",
   "pygments_lexer": "ipython3",
   "version": "3.9.7"
  }
 },
 "nbformat": 4,
 "nbformat_minor": 5
}
